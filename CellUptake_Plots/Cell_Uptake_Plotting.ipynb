{
 "cells": [
  {
   "cell_type": "code",
   "execution_count": 1,
   "metadata": {},
   "outputs": [],
   "source": [
    "import pandas as pd\n",
    "import matplotlib.pyplot as plt\n",
    "import matplotlib.patches as mpatches\n",
    "from matplotlib.ticker import MaxNLocator"
   ]
  },
  {
   "cell_type": "code",
   "execution_count": 2,
   "metadata": {},
   "outputs": [],
   "source": [
    "file_path = '/Users/aryellewright/Documents/Documents - Aryelle’s MacBook Air/Kumar-Biomaterials-Lab/CellUptake_Plots/Cell Uptake_Aryelle Experiment_02.09.2024/20240209_CellUptake_DIPLibrary.xlsx'\n",
    "sheet_name = 'Sheet3'\n",
    "df = pd.read_excel(file_path, sheet_name=sheet_name)"
   ]
  },
  {
   "cell_type": "code",
   "execution_count": 3,
   "metadata": {},
   "outputs": [],
   "source": [
    "sample = df['Polymer']\n",
    "geometric_mean = df['Geometric Mean Avg.']\n",
    "stdev = df['Stdev']"
   ]
  },
  {
   "cell_type": "code",
   "execution_count": 4,
   "metadata": {},
   "outputs": [],
   "source": [
    "np_ratio_colors = {\n",
    "    '1.0': '#a559aa',   # N/P = 1\n",
    "    '5.0': '#59a89c',   # N/P = 5\n",
    "    '7.5': '#f0c561', # N/P = 7.5\n",
    "    '10.0': '#e02b35'   # N/P = 10\n",
    "}"
   ]
  },
  {
   "cell_type": "code",
   "execution_count": 5,
   "metadata": {},
   "outputs": [],
   "source": [
    "control_colors = {\n",
    "    'Untreated': '#818689',  # UT as gray\n",
    "    'pDNA': '#818689',  # pDNA as gray\n",
    "    'jetPEI': '#000000',  # jetPEI as black\n",
    "    'LPF2000': '#000000'  # LPF2000 as black\n",
    "}"
   ]
  },
  {
   "cell_type": "code",
   "execution_count": 7,
   "metadata": {},
   "outputs": [
    {
     "data": {
      "image/png": "[encoded data removed]",
      "text/plain": [
       "<Figure size 325x325 with 1 Axes>"
      ]
     },
     "metadata": {},
     "output_type": "display_data"
    }
   ],
   "source": [
    "# Set the figure size\n",
    "plt.figure(figsize=(3.25, 3.25))\n",
    "\n",
    "# List of controls\n",
    "controls = ['Untreated', 'pDNA', 'LPF2000', 'jetPEI']\n",
    "\n",
    "# Separate controls from the rest of the DataFrame\n",
    "controls_df = df[df['Polymer'].isin(controls)].drop_duplicates(subset='Polymer')\n",
    "rest_df = df[~df['Polymer'].isin(controls)]\n",
    "\n",
    "# Reset poly_index for the controls\n",
    "poly_index = 0\n",
    "\n",
    "# Plot controls with customized colors and increased bar height\n",
    "for control in controls:\n",
    "    control_df = controls_df[controls_df['Polymer'] == control]\n",
    "    if not control_df.empty:\n",
    "        mean_value = control_df['Geometric Mean Avg.'].values[0]\n",
    "        std_dev = control_df['Stdev'].values[0]\n",
    "        plt.barh(poly_index, mean_value, color=control_colors[control], height=0.4)  # Increased bar height\n",
    "        plt.errorbar(x=mean_value, y=poly_index, xerr=std_dev, fmt='none', c='black', capsize=3)  # Increased capsize for emphasis\n",
    "    poly_index += 1\n",
    "\n",
    "# Loop through each polymer excluding controls to plot bars\n",
    "for polymer in rest_df['Polymer'].unique():\n",
    "    poly_df = rest_df[rest_df['Polymer'] == polymer]\n",
    "    num_entries = len(poly_df['N/P Ratio'].unique())\n",
    "\n",
    "    for ratio_index, (np_ratio, group_df) in enumerate(poly_df.groupby('N/P Ratio')):\n",
    "        y = poly_index + (ratio_index - (num_entries - 1) / 2) * 0.2\n",
    "        mean_value = group_df['Geometric Mean Avg.'].mean()\n",
    "        std_dev = group_df['Stdev'].mean()\n",
    "        plt.barh(y, mean_value, color=np_ratio_colors[str(np_ratio)], height=0.2)  # Regular bar height for other polymers\n",
    "        plt.errorbar(x=mean_value, y=y, xerr=std_dev, fmt='none', c='black', capsize=2)  # Regular capsize\n",
    "\n",
    "    poly_index += 1\n",
    "\n",
    "plt.gca().invert_yaxis()\n",
    "plt.tick_params(left=False)\n",
    "plt.xlim(0)\n",
    "# Set the maximum number of x-ticks\n",
    "ax = plt.gca()  # Get the current Axes instance\n",
    "ax.xaxis.set_major_locator(MaxNLocator(nbins=3))  # Adjust 'nbins' to your desired number of ticks\n",
    "\n",
    "plt.xticks(fontsize=14)\n",
    "plt.xlabel('Cy5 Geometric MFI', fontsize=14)\n",
    "\n",
    "custom_labels = controls + ['S', 'B', 'G1', 'G2', 'G3']\n",
    "plt.yticks(ticks=range(len(custom_labels)), labels=custom_labels, fontsize=14)  # Optionally adjust font size for emphasis\n",
    "\n",
    "# Update the legend to reflect new color scheme and controls\n",
    "legend_handles = [mpatches.Patch(color=color, label=str(int(float(label))) if float(label).is_integer() else label)\n",
    "                  for label, color in np_ratio_colors.items()]\n",
    "\n",
    "num_legend_items = len(legend_handles)\n",
    "#plt.legend(handles=legend_handles, title='N/P Ratio', loc='upper center', \n",
    "           #bbox_to_anchor=(0.65, 0.48), fontsize=14, title_fontsize=14, frameon=False, ncol=num_legend_items)\n",
    "\n",
    "#plt.legend(handles=legend_handles, title='N/P Ratio', loc='upper left', bbox_to_anchor=(0.65, 0.48))\n",
    "\n",
    "plt.show()"
   ]
  },
  {
   "cell_type": "code",
   "execution_count": null,
   "metadata": {},
   "outputs": [],
   "source": []
  }
 ],
 "metadata": {
  "kernelspec": {
   "display_name": "Python 3",
   "language": "python",
   "name": "python3"
  },
  "language_info": {
   "codemirror_mode": {
    "name": "ipython",
    "version": 3
   },
   "file_extension": ".py",
   "mimetype": "text/x-python",
   "name": "python",
   "nbconvert_exporter": "python",
   "pygments_lexer": "ipython3",
   "version": "3.9.6"
  }
 },
 "nbformat": 4,
 "nbformat_minor": 2
}
