{
 "cells": [
  {
   "cell_type": "code",
   "execution_count": 7,
   "metadata": {},
   "outputs": [],
   "source": [
    "# imports \n",
    "import pandas as pd\n",
    "import matplotlib.pyplot as plt\n",
    "import matplotlib.patches as mpatches\n",
    "from matplotlib.ticker import MaxNLocator"
   ]
  },
  {
   "cell_type": "code",
   "execution_count": 8,
   "metadata": {},
   "outputs": [],
   "source": [
    "file_path = ('/Users/aryellewright/Documents/Documents - Aryelle’s MacBook Air/Kumar-Biomaterials-Lab/Complement_Assay_Plots/20240319_C4d_1-100dilution.xlsx')\n",
    "sheet_name = 'Sheet1'\n",
    "df = pd.read_excel(file_path, sheet_name=sheet_name)"
   ]
  },
  {
   "cell_type": "code",
   "execution_count": 9,
   "metadata": {},
   "outputs": [],
   "source": [
    "polymer = df['Polymer']\n",
    "n_p_ratio = df['N/P Ratio']\n",
    "concetration = df['Concentration']\n",
    "stdev = df['Stdev']"
   ]
  },
  {
   "cell_type": "code",
   "execution_count": 10,
   "metadata": {},
   "outputs": [],
   "source": [
    "np_ratio_colors = {\n",
    "    '5.0': '#59a89c',   # N/P = 5\n",
    "    '7.5': '#f0c561', # N/P = 7.5\n",
    "    '10.0': '#e02b35'   # N/P = 10\n",
    "}"
   ]
  },
  {
   "cell_type": "code",
   "execution_count": 11,
   "metadata": {},
   "outputs": [],
   "source": [
    "control_colors = {\n",
    "    'Negative': '#818689',  # UT as gray\n",
    "    'Positive': '#818689',  # pDNA as gray\n",
    "    'Zymosan': '#000000',\n",
    "    'pDNA': '#818689'\n",
    "}"
   ]
  },
  {
   "cell_type": "code",
   "execution_count": 12,
   "metadata": {},
   "outputs": [
    {
     "data": {
      "image/png": "[encoded data removed]",
      "text/plain": [
       "<Figure size 325x325 with 1 Axes>"
      ]
     },
     "metadata": {},
     "output_type": "display_data"
    }
   ],
   "source": [
    "# Set the figure size\n",
    "plt.figure(figsize=(3.25, 3.25))\n",
    "\n",
    "# List of controls\n",
    "controls = ['Negative', 'Positive', 'Zymosan', 'pDNA']\n",
    "\n",
    "# Separate controls from the rest of the DataFrame\n",
    "controls_df = df[df['Polymer'].isin(controls)].drop_duplicates(subset='Polymer')\n",
    "rest_df = df[~df['Polymer'].isin(controls)]\n",
    "\n",
    "# Reset poly_index for the controls\n",
    "poly_index = 0\n",
    "\n",
    "# Plot controls once if they exist in the DataFrame\n",
    "for control in controls:\n",
    "    control_df = controls_df[controls_df['Polymer'] == control]\n",
    "    if not control_df.empty:\n",
    "        mean_value = control_df['Concentration'].values[0]\n",
    "        std_dev = control_df['Stdev'].values[0]\n",
    "        # Set the height of the control bar to 0.3\n",
    "        plt.barh(poly_index, mean_value, color=control_colors[control], height=0.4)  \n",
    "        plt.errorbar(x=mean_value, y=poly_index, xerr=std_dev, fmt='none', c='black', capsize=3)\n",
    "    poly_index += 1\n",
    "\n",
    "\n",
    "\n",
    "# Loop through each polymer excluding controls to plot bars\n",
    "for polymer in rest_df['Polymer'].unique():\n",
    "    poly_df = rest_df[rest_df['Polymer'] == polymer]\n",
    "    num_entries = len(poly_df['N/P Ratio'].unique())\n",
    "\n",
    "    for ratio_index, (np_ratio, group_df) in enumerate(poly_df.groupby('N/P Ratio')):\n",
    "        y = poly_index + (ratio_index - (num_entries - 1) / 2) * 0.2\n",
    "        mean_value = group_df['Concentration'].mean()\n",
    "        std_dev = group_df['Stdev'].mean()\n",
    "        plt.barh(y, mean_value, color=np_ratio_colors[str(np_ratio)], height=0.2)  \n",
    "        plt.errorbar(x=mean_value, y=y, xerr=std_dev, fmt='none', c='black', capsize=2)\n",
    "\n",
    "    poly_index += 1\n",
    "\n",
    "plt.gca().invert_yaxis()\n",
    "plt.tick_params(left=False)\n",
    "plt.xlim(0)\n",
    "plt.xticks(fontsize=14)\n",
    "plt.xlabel('C4d (ng/mL)', fontsize=14)\n",
    "custom_labels = controls + ['S', 'B', 'G1', 'G2', 'G3']\n",
    "#plt.yticks(ticks=range(len(custom_labels)), labels=custom_labels, fontsize=14)\n",
    "plt.yticks([])\n",
    "plt.gca().xaxis.set_major_locator(MaxNLocator(prune='upper', nbins=4))\n",
    "\n",
    "legend_handles = [mpatches.Patch(color=color, label=str(int(float(label))) if float(label).is_integer() else label)\n",
    "                  for label, color in np_ratio_colors.items()]\n",
    "\n",
    "num_legend_items = len(legend_handles)\n",
    "plt.legend(handles=legend_handles, title='N/P Ratio', loc='upper center', \n",
    "          bbox_to_anchor=(0.5, 1.3), fontsize=12, title_fontsize=14, frameon=False, ncol=num_legend_items)\n",
    "\n",
    "\n",
    "plt.show()\n"
   ]
  },
  {
   "cell_type": "code",
   "execution_count": null,
   "metadata": {},
   "outputs": [],
   "source": []
  }
 ],
 "metadata": {
  "kernelspec": {
   "display_name": "Python 3",
   "language": "python",
   "name": "python3"
  },
  "language_info": {
   "codemirror_mode": {
    "name": "ipython",
    "version": 3
   },
   "file_extension": ".py",
   "mimetype": "text/x-python",
   "name": "python",
   "nbconvert_exporter": "python",
   "pygments_lexer": "ipython3",
   "version": "3.9.6"
  }
 },
 "nbformat": 4,
 "nbformat_minor": 2
}
