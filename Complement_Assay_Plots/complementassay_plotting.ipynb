{
 "cells": [
  {
   "cell_type": "code",
   "execution_count": 12,
   "metadata": {},
   "outputs": [],
   "source": [
    "# imports \n",
    "import pandas as pd\n",
    "import matplotlib.pyplot as plt\n",
    "import numpy as np\n",
    "from brokenaxes import brokenaxes\n",
    "import seaborn as sns"
   ]
  },
  {
   "cell_type": "code",
   "execution_count": 13,
   "metadata": {},
   "outputs": [],
   "source": [
    "file_path = ('/Users/aryellewright/Documents/Documents - Aryelle’s MacBook Air/Kumar-Biomaterials-Lab/Complement_Assay_Plots/20240319_C4d_1-100dilution.xlsx')\n",
    "sheet_name = \"Sheet1\"  \n",
    "df = pd.read_excel(file_path, sheet_name=sheet_name)"
   ]
  },
  {
   "cell_type": "code",
   "execution_count": 14,
   "metadata": {},
   "outputs": [],
   "source": [
    "# saving variables for plotting\n",
    "polymer = df['Polymer'][::-1]\n",
    "n_p_ratio = df['N/P ratio'][::-1]\n",
    "concetration = df['Concentration'][::-1]\n",
    "stdev = df['Stdev'][::-1]"
   ]
  },
  {
   "cell_type": "code",
   "execution_count": 15,
   "metadata": {},
   "outputs": [
    {
     "data": {
      "image/png": "[encoded data removed]",
      "text/plain": [
       "<Figure size 325x325 with 1 Axes>"
      ]
     },
     "metadata": {},
     "output_type": "display_data"
    }
   ],
   "source": [
    "# Define the order of your polymers or conditions\n",
    "polymer_order = ['Negative', 'Positive', 'Zymosan', 'pDNA+\\nH₂O', 'S','B','G1','G2','G3']\n",
    "df['Polymer'] = pd.Categorical(df['Polymer'], categories=polymer_order, ordered=True)\n",
    "df_sorted = df.sort_values(by=['Polymer', 'N/P ratio'])\n",
    "\n",
    "fig, ax = plt.subplots(figsize=(3.25, 3.25))\n",
    "bar_width = 0.24  \n",
    "larger_bar_width = 0.5\n",
    "unique_polymers = df_sorted['Polymer'].unique()\n",
    "unique_ratios = df_sorted['N/P ratio'].unique()\n",
    "positions = np.arange(len(polymer_order))  \n",
    "\n",
    "colors = {\n",
    "    '0.0': '#082a54',   \n",
    "    '1.0': '#a559aa',   \n",
    "    '5.0': '#59a89c',   \n",
    "    '7.5': '#f0c561',   \n",
    "    '10.0': '#e02b35'   \n",
    "}\n",
    "\n",
    "legend_dict = {}\n",
    "ratio_index = {ratio: idx for idx, ratio in enumerate(unique_ratios)}\n",
    "\n",
    "for j, polymer in enumerate(polymer_order):\n",
    "    num_bars_for_polymer = len(df_sorted[df_sorted['Polymer'] == polymer]['N/P ratio'].unique())\n",
    "    start_pos = positions[j] - bar_width * (num_bars_for_polymer - 1) / 2\n",
    "\n",
    "    for i, ratio in enumerate(unique_ratios):\n",
    "        if ratio in df_sorted[df_sorted['Polymer'] == polymer]['N/P ratio'].values:\n",
    "            polymer_data = df_sorted[(df_sorted['Polymer'] == polymer) & (df_sorted['N/P ratio'] == ratio)]\n",
    "            position = start_pos + bar_width * ratio_index[ratio]\n",
    "            color = colors[str(ratio)]\n",
    "            bar_height = larger_bar_width if polymer in ['pDNA+\\nH₂O', 'Negative', 'Positive', 'Zymosan'] else bar_width\n",
    "            \n",
    "            bar = ax.barh(position, polymer_data['Concentration'].mean(), xerr=polymer_data['Stdev'].mean(), \n",
    "                          color=color, height=bar_height, capsize=2.5)\n",
    "            \n",
    "            if ratio not in legend_dict:\n",
    "                legend_dict[ratio] = bar\n",
    "\n",
    "legend_handles = []\n",
    "legend_labels = []\n",
    "\n",
    "for ratio, bar_container in legend_dict.items():\n",
    "    if len(bar_container.patches) > 0:\n",
    "        first_bar = bar_container.patches[0]\n",
    "        legend_handles.append(first_bar)\n",
    "        \n",
    "        if ratio == 7.5 or ratio == '7.5':\n",
    "            legend_labels.append('7.5')\n",
    "        else:\n",
    "            legend_labels.append(str(int(float(ratio)))) \n",
    "\n",
    "ax.set_yticks(positions)\n",
    "ax.set_yticklabels(polymer_order)\n",
    "ax.invert_yaxis() \n",
    "ax.set_xlabel('C4d Concentration (µg/mL)')\n",
    "ax.legend(handles=legend_handles, labels=legend_labels, title='N/P Ratio', loc='upper left', bbox_to_anchor=(1, 0.75))\n",
    "ax.tick_params(axis='y', which='both', left=False)  \n",
    "\n",
    "plt.tight_layout()\n",
    "plt.show()"
   ]
  },
  {
   "cell_type": "code",
   "execution_count": null,
   "metadata": {},
   "outputs": [],
   "source": []
  }
 ],
 "metadata": {
  "kernelspec": {
   "display_name": "Python 3",
   "language": "python",
   "name": "python3"
  },
  "language_info": {
   "codemirror_mode": {
    "name": "ipython",
    "version": 3
   },
   "file_extension": ".py",
   "mimetype": "text/x-python",
   "name": "python",
   "nbconvert_exporter": "python",
   "pygments_lexer": "ipython3",
   "version": "3.9.6"
  }
 },
 "nbformat": 4,
 "nbformat_minor": 2
}
