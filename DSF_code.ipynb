{
 "cells": [
  {
   "cell_type": "code",
   "execution_count": 22,
   "id": "6b9fabc9-5dd5-4d22-9e57-b442fc4616f4",
   "metadata": {},
   "outputs": [],
   "source": [
    "# checking to see the firectory that I'm working in to help import my files\n",
    "import os\n",
    "MY_OS = os.getcwd()\n",
    "#print(os.listdir(MY_OS))"
   ]
  },
  {
   "cell_type": "code",
   "execution_count": 25,
   "id": "bd830a48-c07f-494a-90ad-9073cb6c7308",
   "metadata": {},
   "outputs": [],
   "source": [
    "# imports imports imports\n",
    "import pandas as pd\n",
    "import matplotlib.pyplot as mp\n",
    "import csv"
   ]
  },
  {
   "cell_type": "code",
   "execution_count": null,
   "id": "5ee6190e-053c-456c-b88b-fcab719c310c",
   "metadata": {},
   "outputs": [],
   "source": [
    "urlfile='https://raw.githubusercontent.com/camdenfritz/Aryelle-Plots/master/melting_point/raw_data/aryelle_data.csv'\n",
    "\n",
    "if __name__ == '__main__':\n",
    "    data = pd.read_csv((urlfile))\n",
    "    u = data.groupby(\"SamplePos\")[\"Temp\", '465-580'].agg(list)\n",
    "    aggregated_data = {'Temperature Celsius': u.iloc[0, 0]}\n",
    "\n",
    "    for index, row in u.iterrows():\n",
    "        if len(row['465-580']) == 2815:\n",
    "            aggregated_data[row.name] = row['465-580']\n",
    "\n",
    "    aggregated_data = pd.DataFrame(aggregated_data)\n",
    "\n",
    "    derivative_data = {'Temperature Celsius': u.iloc[0, 0][1::]}\n",
    "\n",
    "    temp = u.iloc[0, 0]\n",
    "\n",
    "    all_samples = list(aggregated_data.columns)[1::]\n",
    "\n",
    "    for i in all_samples[1::]:\n",
    "        derivative = []\n",
    "        for j, val in enumerate(aggregated_data[i][1::]):\n",
    "            if (temp[j+1] - temp[j]) != 0:\n",
    "                derivative.append((val - aggregated_data[i][j]) / (temp[j+1] - temp[j]))\n",
    "            else:\n",
    "                derivative.append(derivative[j-1])\n",
    "        derivative_data[i] = derivative\n",
    "\n",
    "    derivative_data = pd.DataFrame(derivative_data)\n",
    "\n",
    "    plot_2 = derivative_data.plot(x='Temperature Celsius',\n",
    "                                  y=list(derivative_data.columns[1::]),\n",
    "                                  kind='line',\n",
    "                                  legend=False,\n",
    "                                  linewidth=0.1)\n",
    "    plot_2.set_ylabel('dRFU/dt')\n",
    "\n",
    "    plot_1 = aggregated_data.plot(x='Temperature Celsius',\n",
    "                                  y=list(aggregated_data.columns)[1::],\n",
    "                                  kind='line',\n",
    "                                  legend=False,\n",
    "                                  linewidth=1)\n",
    "    plot_1.set_ylabel('RFU')\n",
    "    \n",
    "    mp.show()"
   ]
  },
  {
   "cell_type": "code",
   "execution_count": null,
   "id": "95ac39c3-b937-4fd7-b794-736b1c74d080",
   "metadata": {},
   "outputs": [],
   "source": []
  }
 ],
 "metadata": {
  "kernelspec": {
   "display_name": "Python 3 (ipykernel)",
   "language": "python",
   "name": "python3"
  },
  "language_info": {
   "codemirror_mode": {
    "name": "ipython",
    "version": 3
   },
   "file_extension": ".py",
   "mimetype": "text/x-python",
   "name": "python",
   "nbconvert_exporter": "python",
   "pygments_lexer": "ipython3",
   "version": "3.9.12"
  }
 },
 "nbformat": 4,
 "nbformat_minor": 5
}
