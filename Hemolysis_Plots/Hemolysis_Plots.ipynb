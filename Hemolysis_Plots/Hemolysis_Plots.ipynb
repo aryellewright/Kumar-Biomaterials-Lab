{
 "cells": [
  {
   "cell_type": "code",
   "execution_count": 20,
   "metadata": {},
   "outputs": [],
   "source": [
    "import pandas as pd\n",
    "import matplotlib.pyplot as plt\n",
    "import matplotlib.patches as mpatches\n",
    "from brokenaxes import brokenaxes"
   ]
  },
  {
   "cell_type": "code",
   "execution_count": 21,
   "metadata": {},
   "outputs": [],
   "source": [
    "file_path = \"/Users/aryellewright/Documents/Documents - Aryelle’s MacBook Air/Kumar-Biomaterials-Lab/Hemolysis_Plots/20240201_Hemolysis_DIPLibrary_pDNA5ng.xlsx\" \n",
    "sheet_name = \"Sheet2\"  \n",
    "df = pd.read_excel(file_path, sheet_name=sheet_name)"
   ]
  },
  {
   "cell_type": "code",
   "execution_count": 22,
   "metadata": {},
   "outputs": [],
   "source": [
    "polymers = df['Polymer']\n",
    "avg = df['hemolysis avg']\n",
    "stdev = df['stddev']\n",
    "NP_ratio = df['N/P ratio']"
   ]
  },
  {
   "cell_type": "code",
   "execution_count": 23,
   "metadata": {},
   "outputs": [],
   "source": [
    "np_ratio_colors = {\n",
    "    '1.0': '#a559aa',   # N/P = 1\n",
    "    '5.0': '#59a89c',   # N/P = 5\n",
    "    '7.5': '#f0c561', # N/P = 7.5\n",
    "    '10.0': '#e02b35'   # N/P = 10\n",
    "}"
   ]
  },
  {
   "cell_type": "code",
   "execution_count": 24,
   "metadata": {},
   "outputs": [
    {
     "data": {
      "image/png": "[encoded data removed]",
      "text/plain": [
       "<Figure size 325x325 with 1 Axes>"
      ]
     },
     "metadata": {},
     "output_type": "display_data"
    }
   ],
   "source": [
    "# Set the figure size\n",
    "plt.figure(figsize=(3.25, 3.25))\n",
    "\n",
    "# Initialize poly_index\n",
    "poly_index = 0\n",
    "\n",
    "# Loop through each polymer to plot bars\n",
    "for polymer in df['Polymer'].unique():\n",
    "    poly_df = df[df['Polymer'] == polymer]\n",
    "    num_entries = len(poly_df['N/P ratio'].unique())\n",
    "\n",
    "    for ratio_index, (np_ratio, group_df) in enumerate(poly_df.groupby('N/P ratio')):\n",
    "        # Calculate the y position for other bars, keeping them grouped together\n",
    "        y = poly_index + (ratio_index - (num_entries - 1) / 2) * 0.2\n",
    "        mean_value = group_df['hemolysis avg'].mean()\n",
    "        std_dev = group_df['stddev'].mean()\n",
    "        \n",
    "        # Plot the bars\n",
    "        plt.barh(y, mean_value, color=np_ratio_colors[str(np_ratio)], height=0.2)\n",
    "        \n",
    "        # Add error bars\n",
    "        plt.errorbar(x=mean_value, y=y, xerr=std_dev, fmt='none', c='black', capsize=2)\n",
    "\n",
    "    poly_index += 1\n",
    "\n",
    "plt.gca().invert_yaxis()\n",
    "plt.tick_params(left=False)\n",
    "custom_labels = ['S', 'B', 'G1', 'G2', 'G3']\n",
    "plt.yticks(ticks=range(len(custom_labels)), labels=custom_labels)\n",
    "plt.xlabel('RBC Lysis (%)')\n",
    "plt.axvline(0, color='black', linewidth=0.5)\n",
    "plt.xlim(0)\n",
    "\n",
    "legend_handles = [mpatches.Patch(color=color, label=str(int(float(label))) if float(label).is_integer() else label)\n",
    "                  for label, color in np_ratio_colors.items()]\n",
    "\n",
    "plt.legend(handles=legend_handles, title='N/P Ratio')\n",
    "\n",
    "plt.show()"
   ]
  },
  {
   "cell_type": "code",
   "execution_count": 33,
   "metadata": {},
   "outputs": [
    {
     "data": {
      "image/png": "[encoded data removed]",
      "text/plain": [
       "<Figure size 325x325 with 3 Axes>"
      ]
     },
     "metadata": {},
     "output_type": "display_data"
    }
   ],
   "source": [
    "fig = plt.figure(figsize=(3.25, 3.25))\n",
    "bax = brokenaxes(xlims=((0, 20), (48, 51)), hspace=.05, fig=fig, despine=False)\n",
    "\n",
    "poly_index = 0\n",
    "\n",
    "for polymer in df['Polymer'].unique():\n",
    "    poly_df = df[df['Polymer'] == polymer]\n",
    "    num_entries = len(poly_df['N/P ratio'].unique())\n",
    "\n",
    "    for ratio_index, (np_ratio, group_df) in enumerate(poly_df.groupby('N/P ratio')):\n",
    "        # Calculate the y position for other bars, keeping them grouped together\n",
    "        y = poly_index + (ratio_index - (num_entries - 1) / 2) * 0.2\n",
    "        mean_value = group_df['hemolysis avg'].mean()\n",
    "        std_dev = group_df['stddev'].mean()\n",
    "        \n",
    "        # Plot the bars\n",
    "        bax.barh(y, mean_value, color=np_ratio_colors[str(np_ratio)], height=0.2)\n",
    "        \n",
    "        # Add error bars\n",
    "        bax.errorbar(x=mean_value, y=y, xerr=std_dev, fmt='none', c='black', capsize=2)\n",
    "\n",
    "    poly_index += 1\n",
    "\n",
    "\n",
    "custom_labels = ['S', 'B', 'G1', 'G2', 'G3']\n",
    "custom_positions = range(len(custom_labels))\n",
    "\n",
    "for ax in bax.axs:\n",
    "    ax.tick_params(left=False)  # This will remove left ticks on all subplots\n",
    "    ax.set_yticks(custom_positions)  # Set y-tick positions\n",
    "    ax.set_yticklabels(custom_labels)\n",
    "    ax.invert_yaxis()\n",
    "\n",
    "plt.xlabel('RBC Lysis (%)', labelpad=20)\n",
    "\n",
    "legend_handles = [mpatches.Patch(color=color, label=str(int(float(label))) if float(label).is_integer() else label)\n",
    "                  for label, color in np_ratio_colors.items()]\n",
    "\n",
    "plt.legend(handles=legend_handles, title='N/P Ratio', loc='upper left', bbox_to_anchor=(1,0.75))\n",
    "\n",
    "plt.show()"
   ]
  }
 ],
 "metadata": {
  "kernelspec": {
   "display_name": "Python 3",
   "language": "python",
   "name": "python3"
  },
  "language_info": {
   "codemirror_mode": {
    "name": "ipython",
    "version": 3
   },
   "file_extension": ".py",
   "mimetype": "text/x-python",
   "name": "python",
   "nbconvert_exporter": "python",
   "pygments_lexer": "ipython3",
   "version": "3.9.6"
  }
 },
 "nbformat": 4,
 "nbformat_minor": 2
}
