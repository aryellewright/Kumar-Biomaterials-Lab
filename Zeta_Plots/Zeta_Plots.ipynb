{
 "cells": [
  {
   "cell_type": "code",
   "execution_count": 9,
   "metadata": {},
   "outputs": [],
   "source": [
    "import pandas as pd\n",
    "import matplotlib.pyplot as plt\n",
    "import numpy as np"
   ]
  },
  {
   "cell_type": "code",
   "execution_count": 10,
   "metadata": {},
   "outputs": [],
   "source": [
    "file_path = ('/Users/aryellewright/Documents/Documents - Aryelle’s MacBook Air/Kumar-Biomaterials-Lab/Zeta_Plots/022124_DLSZeta_gradientcopoly_NP1,5,7.5,10_pDNA50to10.xlsx')\n",
    "sheet_name = \"Sheet1\"  \n",
    "df = pd.read_excel(file_path, sheet_name=sheet_name)"
   ]
  },
  {
   "cell_type": "code",
   "execution_count": 11,
   "metadata": {},
   "outputs": [],
   "source": [
    "# saving variables for plotting\n",
    "polymers = df['Polymer']\n",
    "zeta = df['Zeta Potential']\n",
    "stdev = df['Stdev']"
   ]
  },
  {
   "cell_type": "code",
   "execution_count": 12,
   "metadata": {},
   "outputs": [],
   "source": [
    "np_ratio_colors = {\n",
    "    '0.0': '#818689',   # N/P=0\n",
    "    '1.0': '#a559aa',   # N/P = 1\n",
    "    '5.0': '#59a89c',   # N/P = 5\n",
    "    '7.5': '#f0c561', # N/P = 7.5\n",
    "    '10.0': '#e02b35'   # N/P = 10\n",
    "}"
   ]
  },
  {
   "cell_type": "code",
   "execution_count": 13,
   "metadata": {},
   "outputs": [
    {
     "data": {
      "image/png": "[encoded data removed]",
      "text/plain": [
       "<Figure size 325x325 with 1 Axes>"
      ]
     },
     "metadata": {},
     "output_type": "display_data"
    }
   ],
   "source": [
    "# Set the figure size\n",
    "plt.figure(figsize=(3.25, 3.25))\n",
    "\n",
    "# Separate 'pDNA' from the rest of the DataFrame\n",
    "pDNA_df = df[df['Polymer'] == 'pDNA'].drop_duplicates(subset='Polymer')\n",
    "rest_df = df[df['Polymer'] != 'pDNA']\n",
    "\n",
    "# Reset poly_index for the 'pDNA'\n",
    "poly_index = 0\n",
    "\n",
    "# Plot 'pDNA' once if it exists in the DataFrame\n",
    "if not pDNA_df.empty:\n",
    "    mean_value = pDNA_df['Zeta Potential'].values[0]\n",
    "    std_dev = pDNA_df['Stdev'].values[0]\n",
    "    # Set the height of the 'pDNA' bar to 0.4\n",
    "    plt.barh(poly_index, mean_value, color=np_ratio_colors[str(pDNA_df['N/P ratio'].values[0])], height=0.4)\n",
    "    plt.errorbar(x=mean_value, y=poly_index, xerr=std_dev, fmt='none', c='black', capsize=3)\n",
    "\n",
    "# Increment the poly_index to plot the rest of the polymers below 'pDNA'\n",
    "poly_index += 1\n",
    "\n",
    "# Loop through each polymer excluding 'pDNA' to plot bars\n",
    "for polymer in rest_df['Polymer'].unique():\n",
    "    poly_df = rest_df[rest_df['Polymer'] == polymer]\n",
    "    num_entries = len(poly_df['N/P ratio'].unique())\n",
    "\n",
    "    for ratio_index, (np_ratio, group_df) in enumerate(poly_df.groupby('N/P ratio')):\n",
    "        # Calculate the y position for other bars, keeping them grouped together\n",
    "        y = poly_index + (ratio_index - (num_entries - 1) / 2) * 0.2\n",
    "        mean_value = group_df['Zeta Potential'].mean()\n",
    "        std_dev = group_df['Stdev'].mean()\n",
    "        # Set the height of other bars to 0.2\n",
    "        plt.barh(y, mean_value, color=np_ratio_colors[str(np_ratio)], height=0.2)\n",
    "        plt.errorbar(x=mean_value, y=y, xerr=std_dev, fmt='none', c='black', capsize=2)\n",
    "\n",
    "    poly_index += 1\n",
    "\n",
    "plt.gca().invert_yaxis()\n",
    "plt.tick_params(left=False)\n",
    "plt.xlabel(r'$\\zeta$-Potential (mV)', fontsize=14)\n",
    "plt.yticks([])\n",
    "plt.xticks(fontsize=14)\n",
    "plt.axvline(0, color='black', linewidth=0.5)\n",
    "#plt.yticks(ticks=range(len(custom_labels)), labels=custom_labels, fontweight='bold')\n",
    "\n",
    "plt.show()"
   ]
  },
  {
   "cell_type": "code",
   "execution_count": null,
   "metadata": {},
   "outputs": [],
   "source": []
  }
 ],
 "metadata": {
  "kernelspec": {
   "display_name": "Python 3",
   "language": "python",
   "name": "python3"
  },
  "language_info": {
   "codemirror_mode": {
    "name": "ipython",
    "version": 3
   },
   "file_extension": ".py",
   "mimetype": "text/x-python",
   "name": "python",
   "nbconvert_exporter": "python",
   "pygments_lexer": "ipython3",
   "version": "3.9.6"
  }
 },
 "nbformat": 4,
 "nbformat_minor": 2
}
