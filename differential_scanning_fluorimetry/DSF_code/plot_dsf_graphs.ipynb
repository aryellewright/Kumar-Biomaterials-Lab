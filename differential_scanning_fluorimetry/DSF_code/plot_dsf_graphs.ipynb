{
 "cells": [
  {
   "cell_type": "code",
   "execution_count": 1,
   "id": "bd830a48-c07f-494a-90ad-9073cb6c7308",
   "metadata": {},
   "outputs": [],
   "source": [
    "# imports imports imports\n",
    "from create_dsf_graphs import create_dsf_graphs\n",
    "import pandas\n",
    "import matplotlib.pyplot\n",
    "import csv"
   ]
  },
  {
   "cell_type": "code",
   "execution_count": 2,
   "id": "95ac39c3-b937-4fd7-b794-736b1c74d080",
   "metadata": {},
   "outputs": [
    {
     "ename": "KeyError",
     "evalue": "'SamplePos'",
     "output_type": "error",
     "traceback": [
      "\u001b[0;31m---------------------------------------------------------------------------\u001b[0m",
      "\u001b[0;31mKeyError\u001b[0m                                  Traceback (most recent call last)",
      "Cell \u001b[0;32mIn[2], line 4\u001b[0m\n\u001b[1;32m      1\u001b[0m urlfile\u001b[39m=\u001b[39m\u001b[39m'\u001b[39m\u001b[39m/Applications/Aryelle-Plots/melting_point/raw_data/20221217_Cas9_AW_RK__new.csv\u001b[39m\u001b[39m'\u001b[39m\n\u001b[1;32m      2\u001b[0m data \u001b[39m=\u001b[39m \u001b[39m'\u001b[39m\u001b[39m/Users/aryellewright/Documents/kumar-biomaterials-lab/Kumar-Biomaterials-Lab/half_increments_DSF_data.csv\u001b[39m\u001b[39m'\u001b[39m\n\u001b[0;32m----> 4\u001b[0m create_dsf_graphs(data)\n",
      "File \u001b[0;32m~/Documents/kumar-biomaterials-lab/Kumar-Biomaterials-Lab/differential_scanning_fluorimetry/DSF_code/create_dsf_graphs.py:16\u001b[0m, in \u001b[0;36mcreate_dsf_graphs\u001b[0;34m(filename)\u001b[0m\n\u001b[1;32m     12\u001b[0m df \u001b[39m=\u001b[39m pandas\u001b[39m.\u001b[39mread_csv(filename)\n\u001b[1;32m     14\u001b[0m \u001b[39m# grouping the data by three columns: \u001b[39;00m\n\u001b[1;32m     15\u001b[0m \u001b[39m# 1. Sample Position to track which well, then the 2. temperature and 3. fluroescence of each well\u001b[39;00m\n\u001b[0;32m---> 16\u001b[0m new_df \u001b[39m=\u001b[39m df\u001b[39m.\u001b[39;49mgroupby(\u001b[39m'\u001b[39;49m\u001b[39mSamplePos\u001b[39;49m\u001b[39m'\u001b[39;49m)[\u001b[39m'\u001b[39m\u001b[39mTemp\u001b[39m\u001b[39m'\u001b[39m, \u001b[39m'\u001b[39m\u001b[39m465-580\u001b[39m\u001b[39m'\u001b[39m]\u001b[39m.\u001b[39magg(\u001b[39mlist\u001b[39m)\n\u001b[1;32m     18\u001b[0m \u001b[39m# using a dictionary to create the x-axis for our melting curve\u001b[39;00m\n\u001b[1;32m     19\u001b[0m melting_curve_data \u001b[39m=\u001b[39m {\u001b[39m'\u001b[39m\u001b[39mTemperature Celsius\u001b[39m\u001b[39m'\u001b[39m: new_df\u001b[39m.\u001b[39miloc[\u001b[39m0\u001b[39m, \u001b[39m0\u001b[39m]}\n",
      "File \u001b[0;32m/Library/Frameworks/Python.framework/Versions/3.11/lib/python3.11/site-packages/pandas/core/frame.py:8399\u001b[0m, in \u001b[0;36mDataFrame.groupby\u001b[0;34m(self, by, axis, level, as_index, sort, group_keys, squeeze, observed, dropna)\u001b[0m\n\u001b[1;32m   8396\u001b[0m     \u001b[39mraise\u001b[39;00m \u001b[39mTypeError\u001b[39;00m(\u001b[39m\"\u001b[39m\u001b[39mYou have to supply one of \u001b[39m\u001b[39m'\u001b[39m\u001b[39mby\u001b[39m\u001b[39m'\u001b[39m\u001b[39m and \u001b[39m\u001b[39m'\u001b[39m\u001b[39mlevel\u001b[39m\u001b[39m'\u001b[39m\u001b[39m\"\u001b[39m)\n\u001b[1;32m   8397\u001b[0m axis \u001b[39m=\u001b[39m \u001b[39mself\u001b[39m\u001b[39m.\u001b[39m_get_axis_number(axis)\n\u001b[0;32m-> 8399\u001b[0m \u001b[39mreturn\u001b[39;00m DataFrameGroupBy(\n\u001b[1;32m   8400\u001b[0m     obj\u001b[39m=\u001b[39;49m\u001b[39mself\u001b[39;49m,\n\u001b[1;32m   8401\u001b[0m     keys\u001b[39m=\u001b[39;49mby,\n\u001b[1;32m   8402\u001b[0m     axis\u001b[39m=\u001b[39;49maxis,\n\u001b[1;32m   8403\u001b[0m     level\u001b[39m=\u001b[39;49mlevel,\n\u001b[1;32m   8404\u001b[0m     as_index\u001b[39m=\u001b[39;49mas_index,\n\u001b[1;32m   8405\u001b[0m     sort\u001b[39m=\u001b[39;49msort,\n\u001b[1;32m   8406\u001b[0m     group_keys\u001b[39m=\u001b[39;49mgroup_keys,\n\u001b[1;32m   8407\u001b[0m     squeeze\u001b[39m=\u001b[39;49msqueeze,\n\u001b[1;32m   8408\u001b[0m     observed\u001b[39m=\u001b[39;49mobserved,\n\u001b[1;32m   8409\u001b[0m     dropna\u001b[39m=\u001b[39;49mdropna,\n\u001b[1;32m   8410\u001b[0m )\n",
      "File \u001b[0;32m/Library/Frameworks/Python.framework/Versions/3.11/lib/python3.11/site-packages/pandas/core/groupby/groupby.py:959\u001b[0m, in \u001b[0;36mGroupBy.__init__\u001b[0;34m(self, obj, keys, axis, level, grouper, exclusions, selection, as_index, sort, group_keys, squeeze, observed, mutated, dropna)\u001b[0m\n\u001b[1;32m    956\u001b[0m \u001b[39mif\u001b[39;00m grouper \u001b[39mis\u001b[39;00m \u001b[39mNone\u001b[39;00m:\n\u001b[1;32m    957\u001b[0m     \u001b[39mfrom\u001b[39;00m \u001b[39mpandas\u001b[39;00m\u001b[39m.\u001b[39;00m\u001b[39mcore\u001b[39;00m\u001b[39m.\u001b[39;00m\u001b[39mgroupby\u001b[39;00m\u001b[39m.\u001b[39;00m\u001b[39mgrouper\u001b[39;00m \u001b[39mimport\u001b[39;00m get_grouper\n\u001b[0;32m--> 959\u001b[0m     grouper, exclusions, obj \u001b[39m=\u001b[39m get_grouper(\n\u001b[1;32m    960\u001b[0m         obj,\n\u001b[1;32m    961\u001b[0m         keys,\n\u001b[1;32m    962\u001b[0m         axis\u001b[39m=\u001b[39;49maxis,\n\u001b[1;32m    963\u001b[0m         level\u001b[39m=\u001b[39;49mlevel,\n\u001b[1;32m    964\u001b[0m         sort\u001b[39m=\u001b[39;49msort,\n\u001b[1;32m    965\u001b[0m         observed\u001b[39m=\u001b[39;49mobserved,\n\u001b[1;32m    966\u001b[0m         mutated\u001b[39m=\u001b[39;49m\u001b[39mself\u001b[39;49m\u001b[39m.\u001b[39;49mmutated,\n\u001b[1;32m    967\u001b[0m         dropna\u001b[39m=\u001b[39;49m\u001b[39mself\u001b[39;49m\u001b[39m.\u001b[39;49mdropna,\n\u001b[1;32m    968\u001b[0m     )\n\u001b[1;32m    970\u001b[0m \u001b[39mself\u001b[39m\u001b[39m.\u001b[39mobj \u001b[39m=\u001b[39m obj\n\u001b[1;32m    971\u001b[0m \u001b[39mself\u001b[39m\u001b[39m.\u001b[39maxis \u001b[39m=\u001b[39m obj\u001b[39m.\u001b[39m_get_axis_number(axis)\n",
      "File \u001b[0;32m/Library/Frameworks/Python.framework/Versions/3.11/lib/python3.11/site-packages/pandas/core/groupby/grouper.py:888\u001b[0m, in \u001b[0;36mget_grouper\u001b[0;34m(obj, key, axis, level, sort, observed, mutated, validate, dropna)\u001b[0m\n\u001b[1;32m    886\u001b[0m         in_axis, level, gpr \u001b[39m=\u001b[39m \u001b[39mFalse\u001b[39;00m, gpr, \u001b[39mNone\u001b[39;00m\n\u001b[1;32m    887\u001b[0m     \u001b[39melse\u001b[39;00m:\n\u001b[0;32m--> 888\u001b[0m         \u001b[39mraise\u001b[39;00m \u001b[39mKeyError\u001b[39;00m(gpr)\n\u001b[1;32m    889\u001b[0m \u001b[39melif\u001b[39;00m \u001b[39misinstance\u001b[39m(gpr, Grouper) \u001b[39mand\u001b[39;00m gpr\u001b[39m.\u001b[39mkey \u001b[39mis\u001b[39;00m \u001b[39mnot\u001b[39;00m \u001b[39mNone\u001b[39;00m:\n\u001b[1;32m    890\u001b[0m     \u001b[39m# Add key to exclusions\u001b[39;00m\n\u001b[1;32m    891\u001b[0m     exclusions\u001b[39m.\u001b[39madd(gpr\u001b[39m.\u001b[39mkey)\n",
      "\u001b[0;31mKeyError\u001b[0m: 'SamplePos'"
     ]
    }
   ],
   "source": [
    "urlfile='/Applications/Aryelle-Plots/melting_point/raw_data/20221217_Cas9_AW_RK__new.csv'\n",
    "data = '/Users/aryellewright/Documents/kumar-biomaterials-lab/Kumar-Biomaterials-Lab/half_increments_DSF_data.csv'\n",
    "\n",
    "create_dsf_graphs(data)"
   ]
  },
  {
   "cell_type": "code",
   "execution_count": null,
   "id": "997b1401-99d1-4395-863e-513b663861fa",
   "metadata": {},
   "outputs": [],
   "source": []
  }
 ],
 "metadata": {
  "kernelspec": {
   "display_name": "Python 3",
   "language": "python",
   "name": "python3"
  },
  "language_info": {
   "codemirror_mode": {
    "name": "ipython",
    "version": 3
   },
   "file_extension": ".py",
   "mimetype": "text/x-python",
   "name": "python",
   "nbconvert_exporter": "python",
   "pygments_lexer": "ipython3",
   "version": "3.11.1"
  },
  "vscode": {
   "interpreter": {
    "hash": "aee8b7b246df8f9039afb4144a1f6fd8d2ca17a180786b69acc140d282b71a49"
   }
  }
 },
 "nbformat": 4,
 "nbformat_minor": 5
}
