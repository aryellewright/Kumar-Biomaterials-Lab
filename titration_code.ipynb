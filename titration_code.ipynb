{
  "nbformat": 4,
  "nbformat_minor": 0,
  "metadata": {
    "colab": {
      "provenance": [],
      "collapsed_sections": []
    },
    "kernelspec": {
      "name": "python3",
      "display_name": "Python 3"
    },
    "language_info": {
      "name": "python"
    }
  },
  "cells": [
    {
      "cell_type": "markdown",
      "source": [
        "# This section is where we import important tools to help us with our code."
      ],
      "metadata": {
        "id": "oPXKURttbi7L"
      }
    },
    {
      "cell_type": "code",
      "execution_count": null,
      "metadata": {
        "id": "BtfpiAPVQ4Qg",
        "colab": {
          "base_uri": "https://localhost:8080/"
        },
        "outputId": "f0e83fb4-ce32-4694-bed3-155ce5ec702e"
      },
      "outputs": [
        {
          "output_type": "stream",
          "name": "stdout",
          "text": [
            "Mounted at /content/drive\n"
          ]
        }
      ],
      "source": [
        "import numpy as np\n",
        "import matplotlib.pyplot as plt \n",
        "import pandas as pd\n",
        "import glob\n",
        "import scipy.stats as stats\n",
        "from sklearn.linear_model import LinearRegression\n",
        "import seaborn as sns\n",
        "import scipy.optimize\n",
        "sns.set()\n",
        "\n",
        "from google.colab import drive\n",
        "drive.mount('/content/drive')"
      ]
    },
    {
      "cell_type": "markdown",
      "source": [
        "# Below, we are finding the data and sorting it\n",
        "This means that your csv files should be uploaded into the proper folders in your google drive. You can change the '*' to indicate where names are different for the location of your files"
      ],
      "metadata": {
        "id": "WKPJee7t5XE2"
      }
    },
    {
      "cell_type": "code",
      "source": [
        "# locating the data in the google drive\n",
        "all_files = glob.glob(\"/*/*/*/*/DMAEMA/*.csv\")\n",
        "\n",
        "# sorting and displaying our files\n",
        "all_files.sort()\n",
        "all_files"
      ],
      "metadata": {
        "id": "7W4MhLKLSHUN",
        "colab": {
          "base_uri": "https://localhost:8080/"
        },
        "outputId": "e0790821-90b5-433d-d779-f2f25da98b72"
      },
      "execution_count": null,
      "outputs": [
        {
          "output_type": "execute_result",
          "data": {
            "text/plain": [
              "['/content/drive/MyDrive/Titration_data/DMAEMA/20220617_DMAEMA_1122_008_Tdata1.csv',\n",
              " '/content/drive/MyDrive/Titration_data/DMAEMA/20220617_DMAEMA_1122_008_Tdata2.csv']"
            ]
          },
          "metadata": {},
          "execution_count": 2
        }
      ]
    },
    {
      "cell_type": "code",
      "source": [
        "import os\n",
        "\n",
        "cwd = os.getcwd()  # Get the current working directory (cwd)\n",
        "files = os.listdir(cwd)  # Get all the files in that directory\n",
        "print(\"Files in %r: %s\" % (cwd, files))"
      ],
      "metadata": {
        "colab": {
          "base_uri": "https://localhost:8080/"
        },
        "id": "YMgY-paui4Q9",
        "outputId": "97b61114-0321-473d-c35e-10ecc6526a26"
      },
      "execution_count": null,
      "outputs": [
        {
          "output_type": "stream",
          "name": "stdout",
          "text": [
            "Files in '/content': ['.config', 'drive', 'sample_data']\n"
          ]
        }
      ]
    },
    {
      "cell_type": "markdown",
      "source": [
        "# CSV files are different...\n",
        "We must 'read' our csv files so that we can access our data on them. This section is reading ALL of the files that you imported and sorted from above. "
      ],
      "metadata": {
        "id": "E5iyblmz5h4x"
      }
    },
    {
      "cell_type": "code",
      "source": [
        "# creating an empty list to add our files once they've been 'read'\n",
        "list_df = []  \n",
        "vols = []\n",
        "\n",
        "for i, f in enumerate(all_files):\n",
        "  print(i, f)\n",
        "  \n",
        "  # using pd.read to read our csv into a dataframe\n",
        "  df = pd.read_csv(f)\n",
        "  df[\"Cycle Number\"] = i\n",
        "\n",
        "  # adding our read files into our empty list in line 2\n",
        "  list_df.append(df)\n",
        "\n",
        "  volume_max = df[\"Volume (mL)\"].max()\n",
        "  vols.append(volume_max)\n",
        "\n",
        "#list_df"
      ],
      "metadata": {
        "id": "rij_Qiph6ab5",
        "colab": {
          "base_uri": "https://localhost:8080/"
        },
        "outputId": "9ccbdefe-0abd-4993-dd03-26d01b8fc9e4"
      },
      "execution_count": null,
      "outputs": [
        {
          "output_type": "stream",
          "name": "stdout",
          "text": [
            "0 /content/drive/MyDrive/Titration_data/DMAEMA/20220617_DMAEMA_1122_008_Tdata1.csv\n",
            "1 /content/drive/MyDrive/Titration_data/DMAEMA/20220617_DMAEMA_1122_008_Tdata2.csv\n"
          ]
        }
      ]
    },
    {
      "cell_type": "markdown",
      "source": [
        "# Let's combine all of our files\n",
        "Since the titrator only dispenses 20mL at a time, we have separate csv files separate only by a difference in volume. The weird thing is that the titrator doesn't add 20mL to the following files after the first cycle. So below we are concatenating them (making the files into one), then adding 20mL after each cycle so that our dataframe ends in the proper volume"
      ],
      "metadata": {
        "id": "t9DFt11-cqxo"
      }
    },
    {
      "cell_type": "markdown",
      "source": [
        "Since our titration machine likes to make things difficult by not always dispensing 20 mL of NaOH, here I've created a volume tally to make sure that the ending volume of one csv file is close to the beginning volume of the second csv file "
      ],
      "metadata": {
        "id": "b5u__Lw6CcMa"
      }
    },
    {
      "cell_type": "code",
      "source": [
        "adjs = [0]\n",
        "vol_tally = 0\n",
        "\n",
        "for volume in vols[:-1]:\n",
        "  vol_tally += volume\n",
        "  adjs.append(vol_tally)"
      ],
      "metadata": {
        "id": "I364bf4UnbM5"
      },
      "execution_count": null,
      "outputs": []
    },
    {
      "cell_type": "code",
      "source": [
        "for i, df in enumerate(list_df):\n",
        "  df[\"Volume (mL)\"] += adjs[i]"
      ],
      "metadata": {
        "id": "EocPEb45p_-A"
      },
      "execution_count": null,
      "outputs": []
    },
    {
      "cell_type": "code",
      "source": [
        "# using the pd.concat function to combine the two files into one\n",
        "concat_df = pd.concat(list_df, ignore_index=True)"
      ],
      "metadata": {
        "id": "udlQmcoGCgS-"
      },
      "execution_count": null,
      "outputs": []
    },
    {
      "cell_type": "markdown",
      "source": [
        "# Adding the derivative column to our dataframe\n",
        "We have to find the derivative of pH/V, so we do that below and add the new information to a new column in our dataframe. The derivative is important because it locates inflection points from our titration curve. "
      ],
      "metadata": {
        "id": "vELjBiFcfrVa"
      }
    },
    {
      "cell_type": "code",
      "source": [
        "# locating the volumes in our dataframe and creating a variable for them\n",
        "volumes = concat_df[\"Volume (mL)\"]\n",
        "\n",
        "# creating a pHs varibale to represent the pH from our data\n",
        "pHs = concat_df[\"E(pH)\"]\n",
        "\n",
        "# creating an empty list that begins from 0 to add derivative values to\n",
        "derivatives_list = [0]\n",
        "\n",
        "for i in range(1, len(volumes)):\n",
        "  #print(i)\n",
        "\n",
        "  # the math to calculate the derivative of pH/Volume\n",
        "  derivative = (pHs[i] - pHs[i-1]) / (volumes[i] - volumes[i-1])\n",
        "\n",
        "  # adding our calculation to our list from earlier\n",
        "  derivatives_list.append(derivative)\n",
        "\n",
        "# adding a 'derivatives' column to our datafram with our calulcated values\n",
        "concat_df[\"dpH/dV\"] = derivatives_list\n",
        "\n",
        "concat_df"
      ],
      "metadata": {
        "colab": {
          "base_uri": "https://localhost:8080/",
          "height": 479
        },
        "id": "IwydcLEt8fe2",
        "outputId": "293a7cb3-8190-45f6-c6f0-1942bd00edd4"
      },
      "execution_count": null,
      "outputs": [
        {
          "output_type": "stream",
          "name": "stderr",
          "text": [
            "/usr/local/lib/python3.7/dist-packages/ipykernel_launcher.py:14: RuntimeWarning: divide by zero encountered in double_scalars\n",
            "  \n"
          ]
        },
        {
          "output_type": "execute_result",
          "data": {
            "text/plain": [
              "     Row Data #  Volume (mL)   E(pH)  Cycle Number    dpH/dV\n",
              "0             1        0.000   2.141             0  0.000000\n",
              "1             2        0.010   2.133             0 -0.800000\n",
              "2             3        0.020   2.149             0  1.600000\n",
              "3             4        0.038   2.156             0  0.388889\n",
              "4             5        0.073   2.171             0  0.428571\n",
              "..          ...          ...     ...           ...       ...\n",
              "229          99       38.224  12.517             1  0.012500\n",
              "230         100       38.624  12.522             1  0.012500\n",
              "231         101       39.024  12.526             1  0.010000\n",
              "232         102       39.424  12.530             1  0.010000\n",
              "233         103       39.751  12.534             1  0.012232\n",
              "\n",
              "[234 rows x 5 columns]"
            ],
            "text/html": [
              "\n",
              "  <div id=\"df-ce7967e6-9961-4131-82fd-8bff4eca30aa\">\n",
              "    <div class=\"colab-df-container\">\n",
              "      <div>\n",
              "<style scoped>\n",
              "    .dataframe tbody tr th:only-of-type {\n",
              "        vertical-align: middle;\n",
              "    }\n",
              "\n",
              "    .dataframe tbody tr th {\n",
              "        vertical-align: top;\n",
              "    }\n",
              "\n",
              "    .dataframe thead th {\n",
              "        text-align: right;\n",
              "    }\n",
              "</style>\n",
              "<table border=\"1\" class=\"dataframe\">\n",
              "  <thead>\n",
              "    <tr style=\"text-align: right;\">\n",
              "      <th></th>\n",
              "      <th>Row Data #</th>\n",
              "      <th>Volume (mL)</th>\n",
              "      <th>E(pH)</th>\n",
              "      <th>Cycle Number</th>\n",
              "      <th>dpH/dV</th>\n",
              "    </tr>\n",
              "  </thead>\n",
              "  <tbody>\n",
              "    <tr>\n",
              "      <th>0</th>\n",
              "      <td>1</td>\n",
              "      <td>0.000</td>\n",
              "      <td>2.141</td>\n",
              "      <td>0</td>\n",
              "      <td>0.000000</td>\n",
              "    </tr>\n",
              "    <tr>\n",
              "      <th>1</th>\n",
              "      <td>2</td>\n",
              "      <td>0.010</td>\n",
              "      <td>2.133</td>\n",
              "      <td>0</td>\n",
              "      <td>-0.800000</td>\n",
              "    </tr>\n",
              "    <tr>\n",
              "      <th>2</th>\n",
              "      <td>3</td>\n",
              "      <td>0.020</td>\n",
              "      <td>2.149</td>\n",
              "      <td>0</td>\n",
              "      <td>1.600000</td>\n",
              "    </tr>\n",
              "    <tr>\n",
              "      <th>3</th>\n",
              "      <td>4</td>\n",
              "      <td>0.038</td>\n",
              "      <td>2.156</td>\n",
              "      <td>0</td>\n",
              "      <td>0.388889</td>\n",
              "    </tr>\n",
              "    <tr>\n",
              "      <th>4</th>\n",
              "      <td>5</td>\n",
              "      <td>0.073</td>\n",
              "      <td>2.171</td>\n",
              "      <td>0</td>\n",
              "      <td>0.428571</td>\n",
              "    </tr>\n",
              "    <tr>\n",
              "      <th>...</th>\n",
              "      <td>...</td>\n",
              "      <td>...</td>\n",
              "      <td>...</td>\n",
              "      <td>...</td>\n",
              "      <td>...</td>\n",
              "    </tr>\n",
              "    <tr>\n",
              "      <th>229</th>\n",
              "      <td>99</td>\n",
              "      <td>38.224</td>\n",
              "      <td>12.517</td>\n",
              "      <td>1</td>\n",
              "      <td>0.012500</td>\n",
              "    </tr>\n",
              "    <tr>\n",
              "      <th>230</th>\n",
              "      <td>100</td>\n",
              "      <td>38.624</td>\n",
              "      <td>12.522</td>\n",
              "      <td>1</td>\n",
              "      <td>0.012500</td>\n",
              "    </tr>\n",
              "    <tr>\n",
              "      <th>231</th>\n",
              "      <td>101</td>\n",
              "      <td>39.024</td>\n",
              "      <td>12.526</td>\n",
              "      <td>1</td>\n",
              "      <td>0.010000</td>\n",
              "    </tr>\n",
              "    <tr>\n",
              "      <th>232</th>\n",
              "      <td>102</td>\n",
              "      <td>39.424</td>\n",
              "      <td>12.530</td>\n",
              "      <td>1</td>\n",
              "      <td>0.010000</td>\n",
              "    </tr>\n",
              "    <tr>\n",
              "      <th>233</th>\n",
              "      <td>103</td>\n",
              "      <td>39.751</td>\n",
              "      <td>12.534</td>\n",
              "      <td>1</td>\n",
              "      <td>0.012232</td>\n",
              "    </tr>\n",
              "  </tbody>\n",
              "</table>\n",
              "<p>234 rows × 5 columns</p>\n",
              "</div>\n",
              "      <button class=\"colab-df-convert\" onclick=\"convertToInteractive('df-ce7967e6-9961-4131-82fd-8bff4eca30aa')\"\n",
              "              title=\"Convert this dataframe to an interactive table.\"\n",
              "              style=\"display:none;\">\n",
              "        \n",
              "  <svg xmlns=\"http://www.w3.org/2000/svg\" height=\"24px\"viewBox=\"0 0 24 24\"\n",
              "       width=\"24px\">\n",
              "    <path d=\"M0 0h24v24H0V0z\" fill=\"none\"/>\n",
              "    <path d=\"M18.56 5.44l.94 2.06.94-2.06 2.06-.94-2.06-.94-.94-2.06-.94 2.06-2.06.94zm-11 1L8.5 8.5l.94-2.06 2.06-.94-2.06-.94L8.5 2.5l-.94 2.06-2.06.94zm10 10l.94 2.06.94-2.06 2.06-.94-2.06-.94-.94-2.06-.94 2.06-2.06.94z\"/><path d=\"M17.41 7.96l-1.37-1.37c-.4-.4-.92-.59-1.43-.59-.52 0-1.04.2-1.43.59L10.3 9.45l-7.72 7.72c-.78.78-.78 2.05 0 2.83L4 21.41c.39.39.9.59 1.41.59.51 0 1.02-.2 1.41-.59l7.78-7.78 2.81-2.81c.8-.78.8-2.07 0-2.86zM5.41 20L4 18.59l7.72-7.72 1.47 1.35L5.41 20z\"/>\n",
              "  </svg>\n",
              "      </button>\n",
              "      \n",
              "  <style>\n",
              "    .colab-df-container {\n",
              "      display:flex;\n",
              "      flex-wrap:wrap;\n",
              "      gap: 12px;\n",
              "    }\n",
              "\n",
              "    .colab-df-convert {\n",
              "      background-color: #E8F0FE;\n",
              "      border: none;\n",
              "      border-radius: 50%;\n",
              "      cursor: pointer;\n",
              "      display: none;\n",
              "      fill: #1967D2;\n",
              "      height: 32px;\n",
              "      padding: 0 0 0 0;\n",
              "      width: 32px;\n",
              "    }\n",
              "\n",
              "    .colab-df-convert:hover {\n",
              "      background-color: #E2EBFA;\n",
              "      box-shadow: 0px 1px 2px rgba(60, 64, 67, 0.3), 0px 1px 3px 1px rgba(60, 64, 67, 0.15);\n",
              "      fill: #174EA6;\n",
              "    }\n",
              "\n",
              "    [theme=dark] .colab-df-convert {\n",
              "      background-color: #3B4455;\n",
              "      fill: #D2E3FC;\n",
              "    }\n",
              "\n",
              "    [theme=dark] .colab-df-convert:hover {\n",
              "      background-color: #434B5C;\n",
              "      box-shadow: 0px 1px 3px 1px rgba(0, 0, 0, 0.15);\n",
              "      filter: drop-shadow(0px 1px 2px rgba(0, 0, 0, 0.3));\n",
              "      fill: #FFFFFF;\n",
              "    }\n",
              "  </style>\n",
              "\n",
              "      <script>\n",
              "        const buttonEl =\n",
              "          document.querySelector('#df-ce7967e6-9961-4131-82fd-8bff4eca30aa button.colab-df-convert');\n",
              "        buttonEl.style.display =\n",
              "          google.colab.kernel.accessAllowed ? 'block' : 'none';\n",
              "\n",
              "        async function convertToInteractive(key) {\n",
              "          const element = document.querySelector('#df-ce7967e6-9961-4131-82fd-8bff4eca30aa');\n",
              "          const dataTable =\n",
              "            await google.colab.kernel.invokeFunction('convertToInteractive',\n",
              "                                                     [key], {});\n",
              "          if (!dataTable) return;\n",
              "\n",
              "          const docLinkHtml = 'Like what you see? Visit the ' +\n",
              "            '<a target=\"_blank\" href=https://colab.research.google.com/notebooks/data_table.ipynb>data table notebook</a>'\n",
              "            + ' to learn more about interactive tables.';\n",
              "          element.innerHTML = '';\n",
              "          dataTable['output_type'] = 'display_data';\n",
              "          await google.colab.output.renderOutput(dataTable, element);\n",
              "          const docLink = document.createElement('div');\n",
              "          docLink.innerHTML = docLinkHtml;\n",
              "          element.appendChild(docLink);\n",
              "        }\n",
              "      </script>\n",
              "    </div>\n",
              "  </div>\n",
              "  "
            ]
          },
          "metadata": {},
          "execution_count": 7
        }
      ]
    },
    {
      "cell_type": "markdown",
      "source": [
        "# Now the fun part, graphing!\n",
        "Now we're going to plot our titration curve and derivative plot. To add a little bit of spice we're going to put them both on one plot..."
      ],
      "metadata": {
        "id": "_4CLBqtqgZrT"
      }
    },
    {
      "cell_type": "code",
      "source": [
        "# creating a plot that can have two y-axis\n",
        "fig, titration_curve = plt.subplots()\n",
        "\n",
        "# plotting the two sets of data\n",
        "derivative_curve = titration_curve.twinx()\n",
        "titration_curve.plot(volumes, pHs, '.', color='r')\n",
        "derivative_curve.plot(volumes, derivatives_list, '+', color='b')\n",
        "\n",
        "# labelling the axes and adding color \n",
        "titration_curve.set_xlabel('Volume of 0.05M NaOH (mL)')\n",
        "titration_curve.set_ylabel('pH', color='r')\n",
        "derivative_curve.set_ylabel('dpH/dV', color='b');"
      ],
      "metadata": {
        "colab": {
          "base_uri": "https://localhost:8080/",
          "height": 285
        },
        "id": "pp5ivAr_GBkJ",
        "outputId": "e79a099d-f2e1-4468-a8c3-973730cd6b6c"
      },
      "execution_count": null,
      "outputs": [
        {
          "output_type": "display_data",
          "data": {
            "text/plain": [
              "<Figure size 432x288 with 2 Axes>"
            ],
            "image/png": "[encoded data removed]"
          },
          "metadata": {}
        }
      ]
    },
    {
      "cell_type": "markdown",
      "source": [
        "Woah, that's way too far away. I can't see shit. Let's zoom in on our graphy by editing our minimum x-axis value and maximum x-axis value"
      ],
      "metadata": {
        "id": "1X9nHrgODNF2"
      }
    },
    {
      "cell_type": "code",
      "source": [
        "# trimming to look at just a region\n",
        "min_x = 15\n",
        "max_x = 21\n",
        "\n",
        "trimmed_df = concat_df[(concat_df[\"Volume (mL)\"] > min_x) \n",
        "                       & (concat_df[\"Volume (mL)\"] < max_x)]\n",
        "\n",
        "volumes = trimmed_df[\"Volume (mL)\"]\n",
        "pHs = trimmed_df[\"E(pH)\"]\n",
        "derivatives_list = trimmed_df[\"dpH/dV\"]\n",
        "\n",
        "\n",
        "# creating a plot that can have two y-axis\n",
        "fig, titration_curve = plt.subplots()\n",
        "\n",
        "# plotting the two sets of data\n",
        "derivative_curve = titration_curve.twinx()\n",
        "titration_curve.plot(volumes, pHs, '.', color='r')\n",
        "derivative_curve.plot(volumes, derivatives_list, '+', color='b')\n",
        "\n",
        "# labelling the axes and adding color \n",
        "titration_curve.set_title('DMAEMA')\n",
        "titration_curve.set_xlabel('Volume of 0.05M NaOH (mL)')\n",
        "titration_curve.set_ylabel('pH', color='r')\n",
        "derivative_curve.set_ylabel('dpH/dV', color='b');"
      ],
      "metadata": {
        "id": "j6XDA_ohw-w7",
        "colab": {
          "base_uri": "https://localhost:8080/",
          "height": 301
        },
        "outputId": "b65cf1ab-9fdd-4b98-b79b-4bda4c7e8aca"
      },
      "execution_count": null,
      "outputs": [
        {
          "output_type": "display_data",
          "data": {
            "text/plain": [
              "<Figure size 432x288 with 2 Axes>"
            ],
            "image/png": "[encoded data removed]"
          },
          "metadata": {}
        }
      ]
    },
    {
      "cell_type": "markdown",
      "source": [
        "# Now let's numerically locate our inflection points\n",
        "Below, I set a region of interest and located the two rows of data for our point of interest"
      ],
      "metadata": {
        "id": "taLHC5Kzgz7b"
      }
    },
    {
      "cell_type": "code",
      "source": [
        "# need to change these according to location of inflection pt. on plot above!\n",
        "region1 = [15, 17]\n",
        "region2 = [19, 20]\n",
        "\n",
        "# finding the rows of data for the two inflection points\n",
        "region1_inflection_pt = concat_df[(concat_df[\"Volume (mL)\"]  >= region1[0]) & \n",
        "                                  (concat_df[\"Volume (mL)\"] <= region1[1]) &\n",
        "                                  (concat_df[\"dpH/dV\"] != np.inf) ]\n",
        "region2_inflection_pt = concat_df[(concat_df[\"Volume (mL)\"]  >= region2[0]) & \n",
        "                                  (concat_df[\"Volume (mL)\"] <= region2[1]) &\n",
        "                                  (concat_df[\"dpH/dV\"] != np.inf) ]\n",
        "\n",
        "# printing the rows of data for the two inbflection points \n",
        "print(region1_inflection_pt.sort_values(by=\"dpH/dV\")[-1:])\n",
        "print()\n",
        "print(region2_inflection_pt.sort_values(by=\"dpH/dV\")[-1:])"
      ],
      "metadata": {
        "colab": {
          "base_uri": "https://localhost:8080/"
        },
        "id": "fRMQyXLTTiT5",
        "outputId": "c0b9c8be-d7c1-490b-bd78-2e2b769a9de7"
      },
      "execution_count": null,
      "outputs": [
        {
          "output_type": "stream",
          "name": "stdout",
          "text": [
            "    Row Data #  Volume (mL)  E(pH)  Cycle Number     dpH/dV\n",
            "80          81       15.852  4.843             0  10.333333\n",
            "\n",
            "     Row Data #  Volume (mL)  E(pH)  Cycle Number  dpH/dV\n",
            "123         124       19.681  7.799             0    22.6\n"
          ]
        }
      ]
    },
    {
      "cell_type": "markdown",
      "source": [
        "Just to make things more fun, I isolated ONLY the volume at these two points. This is because we care about the location of our inflection points via our volumes. "
      ],
      "metadata": {
        "id": "DY9vhYUThgBS"
      }
    },
    {
      "cell_type": "code",
      "source": [
        "first_infl_pt = region1_inflection_pt.sort_values(by=\"dpH/dV\", ascending=False)[:1]\n",
        "second_infl_pt = region2_inflection_pt.sort_values(by=\"dpH/dV\", ascending=False)[:1]\n",
        "\n",
        "# finding the volume of the first inflection pt and the volume of the second inflection pt\n",
        "region3 = [first_infl_pt[\"Volume (mL)\"].values[0], second_infl_pt[\"Volume (mL)\"].values[0]]\n",
        "\n",
        "print(region3)"
      ],
      "metadata": {
        "colab": {
          "base_uri": "https://localhost:8080/"
        },
        "id": "SELNL3uaX_As",
        "outputId": "ae57effb-e7aa-409a-bf19-6da4a45ea063"
      },
      "execution_count": null,
      "outputs": [
        {
          "output_type": "stream",
          "name": "stdout",
          "text": [
            "[15.852, 19.681]\n"
          ]
        }
      ]
    },
    {
      "cell_type": "markdown",
      "source": [
        "# Now we must find the midpoint"
      ],
      "metadata": {
        "id": "suNx2qLxhrw8"
      }
    },
    {
      "cell_type": "code",
      "source": [
        "# finding the average of the two inflection points for the midpoint\n",
        "volume_midpoint = np.mean(region3)\n",
        "\n",
        "# remember, this is the volume midpoint...we now need to find the pKa..which might not exist in our data\n",
        "volume_midpoint"
      ],
      "metadata": {
        "colab": {
          "base_uri": "https://localhost:8080/"
        },
        "id": "PIaTsarLcR0L",
        "outputId": "bbfa5f27-10fa-42fc-def2-ca9cdc64694f"
      },
      "execution_count": null,
      "outputs": [
        {
          "output_type": "execute_result",
          "data": {
            "text/plain": [
              "17.7665"
            ]
          },
          "metadata": {},
          "execution_count": 12
        }
      ]
    },
    {
      "cell_type": "markdown",
      "source": [
        "# Creating a dataframe of the real important info\n",
        "We create a dataframe of all of our valuable informatiom between our two inflection points. I think that this helps to isolate the really important code to just a few lines. "
      ],
      "metadata": {
        "id": "I65ElmFWhzC2"
      }
    },
    {
      "cell_type": "code",
      "source": [
        "# creating a dataframe of everything between the two inflection points\n",
        "midpoint_df = concat_df[(concat_df[\"Volume (mL)\"]  >= region3[0]) & (concat_df[\"Volume (mL)\"] <= region3[1])]\n",
        "midpoint_df"
      ],
      "metadata": {
        "colab": {
          "base_uri": "https://localhost:8080/",
          "height": 1000
        },
        "id": "pYk2TyMfjT_X",
        "outputId": "fceb400f-d8d6-459a-83af-3d73cf4eb14c"
      },
      "execution_count": null,
      "outputs": [
        {
          "output_type": "execute_result",
          "data": {
            "text/plain": [
              "     Row Data #  Volume (mL)  E(pH)  Cycle Number     dpH/dV\n",
              "80           81       15.852  4.843             0  10.333333\n",
              "81           82       15.868  4.993             0   9.375000\n",
              "82           83       15.878  5.091             0   9.800000\n",
              "83           84       15.889  5.183             0   8.363636\n",
              "84           85       15.905  5.303             0   7.500000\n",
              "85           86       15.924  5.421             0   6.210526\n",
              "86           87       15.934  5.483             0   6.200000\n",
              "87           88       15.951  5.566             0   4.882353\n",
              "88           89       15.961  5.614             0   4.800000\n",
              "89           90       15.980  5.685             0   3.736842\n",
              "90           91       15.990  5.726             0   4.100000\n",
              "91           92       16.009  5.787             0   3.210526\n",
              "92           93       16.019  5.819             0   3.200000\n",
              "93           94       16.038  5.867             0   2.526316\n",
              "94           95       16.048  5.894             0   2.700000\n",
              "95           96       16.067  5.935             0   2.157895\n",
              "96           97       16.078  5.957             0   2.000000\n",
              "97           98       16.097  5.985             0   1.473684\n",
              "98           99       16.130  6.010             0   0.757576\n",
              "99          100       16.187  6.041             0   0.543860\n",
              "100         101       16.284  6.083             0   0.432990\n",
              "101         102       16.371  6.111             0   0.321839\n",
              "102         103       16.468  6.137             0   0.268041\n",
              "103         104       16.637  6.180             0   0.254438\n",
              "104         105       16.907  6.227             0   0.174074\n",
              "105         106       17.119  6.268             0   0.193396\n",
              "106         107       17.389  6.315             0   0.174074\n",
              "107         108       17.588  6.351             0   0.180905\n",
              "108         109       17.858  6.403             0   0.192593\n",
              "109         110       18.057  6.445             0   0.211055\n",
              "110         111       18.300  6.502             0   0.234568\n",
              "111         112       18.570  6.559             0   0.211111\n",
              "112         113       18.970  6.625             0   0.165000\n",
              "113         114       19.370  6.867             0   0.605000\n",
              "114         115       19.408  6.763             0  -2.736842\n",
              "115         116       19.428  6.746             0  -0.850000\n",
              "116         117       19.490  6.740             0  -0.096774\n",
              "117         118       19.610  6.842             0   0.850000\n",
              "118         119       19.631  6.969             0   6.047619\n",
              "119         120       19.641  7.091             0  12.200000\n",
              "120         121       19.651  7.210             0  11.900000\n",
              "121         122       19.661  7.370             0  16.000000\n",
              "122         123       19.671  7.573             0  20.300000\n",
              "123         124       19.681  7.799             0  22.600000"
            ],
            "text/html": [
              "\n",
              "  <div id=\"df-7346c969-0b90-4bea-b6dd-a4a813647292\">\n",
              "    <div class=\"colab-df-container\">\n",
              "      <div>\n",
              "<style scoped>\n",
              "    .dataframe tbody tr th:only-of-type {\n",
              "        vertical-align: middle;\n",
              "    }\n",
              "\n",
              "    .dataframe tbody tr th {\n",
              "        vertical-align: top;\n",
              "    }\n",
              "\n",
              "    .dataframe thead th {\n",
              "        text-align: right;\n",
              "    }\n",
              "</style>\n",
              "<table border=\"1\" class=\"dataframe\">\n",
              "  <thead>\n",
              "    <tr style=\"text-align: right;\">\n",
              "      <th></th>\n",
              "      <th>Row Data #</th>\n",
              "      <th>Volume (mL)</th>\n",
              "      <th>E(pH)</th>\n",
              "      <th>Cycle Number</th>\n",
              "      <th>dpH/dV</th>\n",
              "    </tr>\n",
              "  </thead>\n",
              "  <tbody>\n",
              "    <tr>\n",
              "      <th>80</th>\n",
              "      <td>81</td>\n",
              "      <td>15.852</td>\n",
              "      <td>4.843</td>\n",
              "      <td>0</td>\n",
              "      <td>10.333333</td>\n",
              "    </tr>\n",
              "    <tr>\n",
              "      <th>81</th>\n",
              "      <td>82</td>\n",
              "      <td>15.868</td>\n",
              "      <td>4.993</td>\n",
              "      <td>0</td>\n",
              "      <td>9.375000</td>\n",
              "    </tr>\n",
              "    <tr>\n",
              "      <th>82</th>\n",
              "      <td>83</td>\n",
              "      <td>15.878</td>\n",
              "      <td>5.091</td>\n",
              "      <td>0</td>\n",
              "      <td>9.800000</td>\n",
              "    </tr>\n",
              "    <tr>\n",
              "      <th>83</th>\n",
              "      <td>84</td>\n",
              "      <td>15.889</td>\n",
              "      <td>5.183</td>\n",
              "      <td>0</td>\n",
              "      <td>8.363636</td>\n",
              "    </tr>\n",
              "    <tr>\n",
              "      <th>84</th>\n",
              "      <td>85</td>\n",
              "      <td>15.905</td>\n",
              "      <td>5.303</td>\n",
              "      <td>0</td>\n",
              "      <td>7.500000</td>\n",
              "    </tr>\n",
              "    <tr>\n",
              "      <th>85</th>\n",
              "      <td>86</td>\n",
              "      <td>15.924</td>\n",
              "      <td>5.421</td>\n",
              "      <td>0</td>\n",
              "      <td>6.210526</td>\n",
              "    </tr>\n",
              "    <tr>\n",
              "      <th>86</th>\n",
              "      <td>87</td>\n",
              "      <td>15.934</td>\n",
              "      <td>5.483</td>\n",
              "      <td>0</td>\n",
              "      <td>6.200000</td>\n",
              "    </tr>\n",
              "    <tr>\n",
              "      <th>87</th>\n",
              "      <td>88</td>\n",
              "      <td>15.951</td>\n",
              "      <td>5.566</td>\n",
              "      <td>0</td>\n",
              "      <td>4.882353</td>\n",
              "    </tr>\n",
              "    <tr>\n",
              "      <th>88</th>\n",
              "      <td>89</td>\n",
              "      <td>15.961</td>\n",
              "      <td>5.614</td>\n",
              "      <td>0</td>\n",
              "      <td>4.800000</td>\n",
              "    </tr>\n",
              "    <tr>\n",
              "      <th>89</th>\n",
              "      <td>90</td>\n",
              "      <td>15.980</td>\n",
              "      <td>5.685</td>\n",
              "      <td>0</td>\n",
              "      <td>3.736842</td>\n",
              "    </tr>\n",
              "    <tr>\n",
              "      <th>90</th>\n",
              "      <td>91</td>\n",
              "      <td>15.990</td>\n",
              "      <td>5.726</td>\n",
              "      <td>0</td>\n",
              "      <td>4.100000</td>\n",
              "    </tr>\n",
              "    <tr>\n",
              "      <th>91</th>\n",
              "      <td>92</td>\n",
              "      <td>16.009</td>\n",
              "      <td>5.787</td>\n",
              "      <td>0</td>\n",
              "      <td>3.210526</td>\n",
              "    </tr>\n",
              "    <tr>\n",
              "      <th>92</th>\n",
              "      <td>93</td>\n",
              "      <td>16.019</td>\n",
              "      <td>5.819</td>\n",
              "      <td>0</td>\n",
              "      <td>3.200000</td>\n",
              "    </tr>\n",
              "    <tr>\n",
              "      <th>93</th>\n",
              "      <td>94</td>\n",
              "      <td>16.038</td>\n",
              "      <td>5.867</td>\n",
              "      <td>0</td>\n",
              "      <td>2.526316</td>\n",
              "    </tr>\n",
              "    <tr>\n",
              "      <th>94</th>\n",
              "      <td>95</td>\n",
              "      <td>16.048</td>\n",
              "      <td>5.894</td>\n",
              "      <td>0</td>\n",
              "      <td>2.700000</td>\n",
              "    </tr>\n",
              "    <tr>\n",
              "      <th>95</th>\n",
              "      <td>96</td>\n",
              "      <td>16.067</td>\n",
              "      <td>5.935</td>\n",
              "      <td>0</td>\n",
              "      <td>2.157895</td>\n",
              "    </tr>\n",
              "    <tr>\n",
              "      <th>96</th>\n",
              "      <td>97</td>\n",
              "      <td>16.078</td>\n",
              "      <td>5.957</td>\n",
              "      <td>0</td>\n",
              "      <td>2.000000</td>\n",
              "    </tr>\n",
              "    <tr>\n",
              "      <th>97</th>\n",
              "      <td>98</td>\n",
              "      <td>16.097</td>\n",
              "      <td>5.985</td>\n",
              "      <td>0</td>\n",
              "      <td>1.473684</td>\n",
              "    </tr>\n",
              "    <tr>\n",
              "      <th>98</th>\n",
              "      <td>99</td>\n",
              "      <td>16.130</td>\n",
              "      <td>6.010</td>\n",
              "      <td>0</td>\n",
              "      <td>0.757576</td>\n",
              "    </tr>\n",
              "    <tr>\n",
              "      <th>99</th>\n",
              "      <td>100</td>\n",
              "      <td>16.187</td>\n",
              "      <td>6.041</td>\n",
              "      <td>0</td>\n",
              "      <td>0.543860</td>\n",
              "    </tr>\n",
              "    <tr>\n",
              "      <th>100</th>\n",
              "      <td>101</td>\n",
              "      <td>16.284</td>\n",
              "      <td>6.083</td>\n",
              "      <td>0</td>\n",
              "      <td>0.432990</td>\n",
              "    </tr>\n",
              "    <tr>\n",
              "      <th>101</th>\n",
              "      <td>102</td>\n",
              "      <td>16.371</td>\n",
              "      <td>6.111</td>\n",
              "      <td>0</td>\n",
              "      <td>0.321839</td>\n",
              "    </tr>\n",
              "    <tr>\n",
              "      <th>102</th>\n",
              "      <td>103</td>\n",
              "      <td>16.468</td>\n",
              "      <td>6.137</td>\n",
              "      <td>0</td>\n",
              "      <td>0.268041</td>\n",
              "    </tr>\n",
              "    <tr>\n",
              "      <th>103</th>\n",
              "      <td>104</td>\n",
              "      <td>16.637</td>\n",
              "      <td>6.180</td>\n",
              "      <td>0</td>\n",
              "      <td>0.254438</td>\n",
              "    </tr>\n",
              "    <tr>\n",
              "      <th>104</th>\n",
              "      <td>105</td>\n",
              "      <td>16.907</td>\n",
              "      <td>6.227</td>\n",
              "      <td>0</td>\n",
              "      <td>0.174074</td>\n",
              "    </tr>\n",
              "    <tr>\n",
              "      <th>105</th>\n",
              "      <td>106</td>\n",
              "      <td>17.119</td>\n",
              "      <td>6.268</td>\n",
              "      <td>0</td>\n",
              "      <td>0.193396</td>\n",
              "    </tr>\n",
              "    <tr>\n",
              "      <th>106</th>\n",
              "      <td>107</td>\n",
              "      <td>17.389</td>\n",
              "      <td>6.315</td>\n",
              "      <td>0</td>\n",
              "      <td>0.174074</td>\n",
              "    </tr>\n",
              "    <tr>\n",
              "      <th>107</th>\n",
              "      <td>108</td>\n",
              "      <td>17.588</td>\n",
              "      <td>6.351</td>\n",
              "      <td>0</td>\n",
              "      <td>0.180905</td>\n",
              "    </tr>\n",
              "    <tr>\n",
              "      <th>108</th>\n",
              "      <td>109</td>\n",
              "      <td>17.858</td>\n",
              "      <td>6.403</td>\n",
              "      <td>0</td>\n",
              "      <td>0.192593</td>\n",
              "    </tr>\n",
              "    <tr>\n",
              "      <th>109</th>\n",
              "      <td>110</td>\n",
              "      <td>18.057</td>\n",
              "      <td>6.445</td>\n",
              "      <td>0</td>\n",
              "      <td>0.211055</td>\n",
              "    </tr>\n",
              "    <tr>\n",
              "      <th>110</th>\n",
              "      <td>111</td>\n",
              "      <td>18.300</td>\n",
              "      <td>6.502</td>\n",
              "      <td>0</td>\n",
              "      <td>0.234568</td>\n",
              "    </tr>\n",
              "    <tr>\n",
              "      <th>111</th>\n",
              "      <td>112</td>\n",
              "      <td>18.570</td>\n",
              "      <td>6.559</td>\n",
              "      <td>0</td>\n",
              "      <td>0.211111</td>\n",
              "    </tr>\n",
              "    <tr>\n",
              "      <th>112</th>\n",
              "      <td>113</td>\n",
              "      <td>18.970</td>\n",
              "      <td>6.625</td>\n",
              "      <td>0</td>\n",
              "      <td>0.165000</td>\n",
              "    </tr>\n",
              "    <tr>\n",
              "      <th>113</th>\n",
              "      <td>114</td>\n",
              "      <td>19.370</td>\n",
              "      <td>6.867</td>\n",
              "      <td>0</td>\n",
              "      <td>0.605000</td>\n",
              "    </tr>\n",
              "    <tr>\n",
              "      <th>114</th>\n",
              "      <td>115</td>\n",
              "      <td>19.408</td>\n",
              "      <td>6.763</td>\n",
              "      <td>0</td>\n",
              "      <td>-2.736842</td>\n",
              "    </tr>\n",
              "    <tr>\n",
              "      <th>115</th>\n",
              "      <td>116</td>\n",
              "      <td>19.428</td>\n",
              "      <td>6.746</td>\n",
              "      <td>0</td>\n",
              "      <td>-0.850000</td>\n",
              "    </tr>\n",
              "    <tr>\n",
              "      <th>116</th>\n",
              "      <td>117</td>\n",
              "      <td>19.490</td>\n",
              "      <td>6.740</td>\n",
              "      <td>0</td>\n",
              "      <td>-0.096774</td>\n",
              "    </tr>\n",
              "    <tr>\n",
              "      <th>117</th>\n",
              "      <td>118</td>\n",
              "      <td>19.610</td>\n",
              "      <td>6.842</td>\n",
              "      <td>0</td>\n",
              "      <td>0.850000</td>\n",
              "    </tr>\n",
              "    <tr>\n",
              "      <th>118</th>\n",
              "      <td>119</td>\n",
              "      <td>19.631</td>\n",
              "      <td>6.969</td>\n",
              "      <td>0</td>\n",
              "      <td>6.047619</td>\n",
              "    </tr>\n",
              "    <tr>\n",
              "      <th>119</th>\n",
              "      <td>120</td>\n",
              "      <td>19.641</td>\n",
              "      <td>7.091</td>\n",
              "      <td>0</td>\n",
              "      <td>12.200000</td>\n",
              "    </tr>\n",
              "    <tr>\n",
              "      <th>120</th>\n",
              "      <td>121</td>\n",
              "      <td>19.651</td>\n",
              "      <td>7.210</td>\n",
              "      <td>0</td>\n",
              "      <td>11.900000</td>\n",
              "    </tr>\n",
              "    <tr>\n",
              "      <th>121</th>\n",
              "      <td>122</td>\n",
              "      <td>19.661</td>\n",
              "      <td>7.370</td>\n",
              "      <td>0</td>\n",
              "      <td>16.000000</td>\n",
              "    </tr>\n",
              "    <tr>\n",
              "      <th>122</th>\n",
              "      <td>123</td>\n",
              "      <td>19.671</td>\n",
              "      <td>7.573</td>\n",
              "      <td>0</td>\n",
              "      <td>20.300000</td>\n",
              "    </tr>\n",
              "    <tr>\n",
              "      <th>123</th>\n",
              "      <td>124</td>\n",
              "      <td>19.681</td>\n",
              "      <td>7.799</td>\n",
              "      <td>0</td>\n",
              "      <td>22.600000</td>\n",
              "    </tr>\n",
              "  </tbody>\n",
              "</table>\n",
              "</div>\n",
              "      <button class=\"colab-df-convert\" onclick=\"convertToInteractive('df-7346c969-0b90-4bea-b6dd-a4a813647292')\"\n",
              "              title=\"Convert this dataframe to an interactive table.\"\n",
              "              style=\"display:none;\">\n",
              "        \n",
              "  <svg xmlns=\"http://www.w3.org/2000/svg\" height=\"24px\"viewBox=\"0 0 24 24\"\n",
              "       width=\"24px\">\n",
              "    <path d=\"M0 0h24v24H0V0z\" fill=\"none\"/>\n",
              "    <path d=\"M18.56 5.44l.94 2.06.94-2.06 2.06-.94-2.06-.94-.94-2.06-.94 2.06-2.06.94zm-11 1L8.5 8.5l.94-2.06 2.06-.94-2.06-.94L8.5 2.5l-.94 2.06-2.06.94zm10 10l.94 2.06.94-2.06 2.06-.94-2.06-.94-.94-2.06-.94 2.06-2.06.94z\"/><path d=\"M17.41 7.96l-1.37-1.37c-.4-.4-.92-.59-1.43-.59-.52 0-1.04.2-1.43.59L10.3 9.45l-7.72 7.72c-.78.78-.78 2.05 0 2.83L4 21.41c.39.39.9.59 1.41.59.51 0 1.02-.2 1.41-.59l7.78-7.78 2.81-2.81c.8-.78.8-2.07 0-2.86zM5.41 20L4 18.59l7.72-7.72 1.47 1.35L5.41 20z\"/>\n",
              "  </svg>\n",
              "      </button>\n",
              "      \n",
              "  <style>\n",
              "    .colab-df-container {\n",
              "      display:flex;\n",
              "      flex-wrap:wrap;\n",
              "      gap: 12px;\n",
              "    }\n",
              "\n",
              "    .colab-df-convert {\n",
              "      background-color: #E8F0FE;\n",
              "      border: none;\n",
              "      border-radius: 50%;\n",
              "      cursor: pointer;\n",
              "      display: none;\n",
              "      fill: #1967D2;\n",
              "      height: 32px;\n",
              "      padding: 0 0 0 0;\n",
              "      width: 32px;\n",
              "    }\n",
              "\n",
              "    .colab-df-convert:hover {\n",
              "      background-color: #E2EBFA;\n",
              "      box-shadow: 0px 1px 2px rgba(60, 64, 67, 0.3), 0px 1px 3px 1px rgba(60, 64, 67, 0.15);\n",
              "      fill: #174EA6;\n",
              "    }\n",
              "\n",
              "    [theme=dark] .colab-df-convert {\n",
              "      background-color: #3B4455;\n",
              "      fill: #D2E3FC;\n",
              "    }\n",
              "\n",
              "    [theme=dark] .colab-df-convert:hover {\n",
              "      background-color: #434B5C;\n",
              "      box-shadow: 0px 1px 3px 1px rgba(0, 0, 0, 0.15);\n",
              "      filter: drop-shadow(0px 1px 2px rgba(0, 0, 0, 0.3));\n",
              "      fill: #FFFFFF;\n",
              "    }\n",
              "  </style>\n",
              "\n",
              "      <script>\n",
              "        const buttonEl =\n",
              "          document.querySelector('#df-7346c969-0b90-4bea-b6dd-a4a813647292 button.colab-df-convert');\n",
              "        buttonEl.style.display =\n",
              "          google.colab.kernel.accessAllowed ? 'block' : 'none';\n",
              "\n",
              "        async function convertToInteractive(key) {\n",
              "          const element = document.querySelector('#df-7346c969-0b90-4bea-b6dd-a4a813647292');\n",
              "          const dataTable =\n",
              "            await google.colab.kernel.invokeFunction('convertToInteractive',\n",
              "                                                     [key], {});\n",
              "          if (!dataTable) return;\n",
              "\n",
              "          const docLinkHtml = 'Like what you see? Visit the ' +\n",
              "            '<a target=\"_blank\" href=https://colab.research.google.com/notebooks/data_table.ipynb>data table notebook</a>'\n",
              "            + ' to learn more about interactive tables.';\n",
              "          element.innerHTML = '';\n",
              "          dataTable['output_type'] = 'display_data';\n",
              "          await google.colab.output.renderOutput(dataTable, element);\n",
              "          const docLink = document.createElement('div');\n",
              "          docLink.innerHTML = docLinkHtml;\n",
              "          element.appendChild(docLink);\n",
              "        }\n",
              "      </script>\n",
              "    </div>\n",
              "  </div>\n",
              "  "
            ]
          },
          "metadata": {},
          "execution_count": 13
        }
      ]
    },
    {
      "cell_type": "code",
      "source": [
        "#zoomed_midpoint_df = midpoint_df[midpoint_df[\"Row Data #\"][300:350]]\n",
        "#zoomed_midpoint_df"
      ],
      "metadata": {
        "id": "tpdi00DYstTa"
      },
      "execution_count": null,
      "outputs": []
    },
    {
      "cell_type": "code",
      "source": [
        "for i,vol in enumerate(midpoint_df[\"Volume (mL)\"]):\n",
        "  if vol > volume_midpoint:\n",
        "    top_index = i\n",
        "    bottom_index = top_index -1\n",
        "    break"
      ],
      "metadata": {
        "id": "8zMKkfgx4D06"
      },
      "execution_count": null,
      "outputs": []
    },
    {
      "cell_type": "code",
      "source": [
        "alpha = (midpoint_df['Volume (mL)'] - region3[0]) / (region3[1] - region3[0])\n",
        "alpha\n",
        "print(len(alpha))"
      ],
      "metadata": {
        "colab": {
          "base_uri": "https://localhost:8080/"
        },
        "id": "hLQOU3c8jnRu",
        "outputId": "11d0f5af-58fd-4018-936f-626be0a33576"
      },
      "execution_count": null,
      "outputs": [
        {
          "output_type": "stream",
          "name": "stdout",
          "text": [
            "44\n"
          ]
        }
      ]
    },
    {
      "cell_type": "code",
      "source": [
        "# plotting the dataframe of everything between the two inflection points\n",
        "plt.plot(alpha, midpoint_df[\"E(pH)\"], '.')\n",
        "plt.xlabel(\"0.05M NaOH (mL)\")\n",
        "plt.ylabel(\"pH\");"
      ],
      "metadata": {
        "colab": {
          "base_uri": "https://localhost:8080/",
          "height": 285
        },
        "id": "UESi-2GqYber",
        "outputId": "86f4eff3-65b8-46f9-a4e0-86dda17bb630"
      },
      "execution_count": null,
      "outputs": [
        {
          "output_type": "display_data",
          "data": {
            "text/plain": [
              "<Figure size 432x288 with 1 Axes>"
            ],
            "image/png": "[encoded data removed]"
          },
          "metadata": {}
        }
      ]
    },
    {
      "cell_type": "markdown",
      "source": [
        "# $$pH = pKa - n log((1-a)/a)$$"
      ],
      "metadata": {
        "id": "8UfEhsOFWXnV"
      }
    },
    {
      "cell_type": "code",
      "source": [
        "fit1 = 6.37 - 0.6 * np.log((1 - alpha) / alpha)\n",
        "fit2 = 6.37 - 0.4 * np.log((1 - alpha) / alpha)\n",
        "fit3 = 6.37 - 0.2 * np.log((1 - alpha) / alpha)\n",
        "\n",
        "fits = [fit1, fit2, fit3]\n",
        "\n",
        "for fit in fits:\n",
        "  plt.plot(alpha, fit)\n",
        "\n",
        "plt.plot(alpha, midpoint_df[\"E(pH)\"], '.')\n",
        "plt.xlabel(r'$\\alpha$')\n",
        "plt.ylabel('pH')\n",
        "\n",
        "plt.legend([\"fit1\",\"fit2\",\"fit3\",\"data\"]);"
      ],
      "metadata": {
        "colab": {
          "base_uri": "https://localhost:8080/",
          "height": 321
        },
        "id": "7veWNdUGkePd",
        "outputId": "69e3af31-4597-4f01-8850-7d85302f0d95"
      },
      "execution_count": null,
      "outputs": [
        {
          "output_type": "stream",
          "name": "stderr",
          "text": [
            "/usr/local/lib/python3.7/dist-packages/pandas/core/arraylike.py:364: RuntimeWarning: divide by zero encountered in log\n",
            "  result = getattr(ufunc, method)(*inputs, **kwargs)\n"
          ]
        },
        {
          "output_type": "display_data",
          "data": {
            "text/plain": [
              "<Figure size 432x288 with 1 Axes>"
            ],
            "image/png": "[encoded data removed]"
          },
          "metadata": {}
        }
      ]
    },
    {
      "cell_type": "markdown",
      "source": [
        "For a given fit, the chi-squared value is defined as:\n",
        "\n",
        "$$\\chi^2 = \\sum \\frac{(O_i - E_i)^2}{E_i}$$"
      ],
      "metadata": {
        "id": "cGcfhuDoqHuG"
      }
    },
    {
      "cell_type": "code",
      "source": [
        "# using chi_squared to calculate pKa by finding the best fit\n",
        "def chi_squared(params,data,alpha):\n",
        "\n",
        "  data = data.values[1:-1]\n",
        "  alpha = alpha.values[1:-1]\n",
        "\n",
        "  # setting my parameters\n",
        "  pKa = params[0]\n",
        "  n = params[1]\n",
        "  #print(pKa, n)\n",
        "  chi_squared = 0\n",
        "\n",
        "  # fitting the parameters with our Henderson-Hasselbach equation for \n",
        "  fit = pKa - n * np.log((1 - alpha) / alpha)\n",
        "\n",
        "  # using the chi_sqaured equation to fit \n",
        "  for i in range(len(data)):\n",
        "\n",
        "    chi = (data[i] - fit[i])** 2 / fit[i]\n",
        "    #print(chi)\n",
        "    chi_squared += chi \n",
        "  \n",
        "\n",
        "  return chi_squared"
      ],
      "metadata": {
        "id": "zEJtFvnjmoe_"
      },
      "execution_count": null,
      "outputs": []
    },
    {
      "cell_type": "code",
      "source": [
        "chi_squared([6.37,0.2], midpoint_df[\"E(pH)\"], alpha)"
      ],
      "metadata": {
        "id": "ahoPjWvntPQ_",
        "colab": {
          "base_uri": "https://localhost:8080/"
        },
        "outputId": "3f0b67e2-4ee7-4347-f63c-9dbc6bf6c204"
      },
      "execution_count": null,
      "outputs": [
        {
          "output_type": "execute_result",
          "data": {
            "text/plain": [
              "0.1342012812060275"
            ]
          },
          "metadata": {},
          "execution_count": 20
        }
      ]
    },
    {
      "cell_type": "code",
      "source": [
        "# call to scipy.optimize \n",
        "ans = scipy.optimize.minimize(chi_squared, [6.37,0.3], args=(midpoint_df[\"E(pH)\"],alpha), \n",
        "                        bounds=[(6,7),(0.2,0.4)])\n",
        "ans.x\n",
        "best_pKa = ans.x[0]\n",
        "best_n = ans.x[1]\n",
        "\n",
        "best_n"
      ],
      "metadata": {
        "id": "6dixEQFLqvFq",
        "colab": {
          "base_uri": "https://localhost:8080/"
        },
        "outputId": "1c96e7b8-5942-433b-b785-99a79cba8191"
      },
      "execution_count": null,
      "outputs": [
        {
          "output_type": "execute_result",
          "data": {
            "text/plain": [
              "0.2"
            ]
          },
          "metadata": {},
          "execution_count": 21
        }
      ]
    },
    {
      "cell_type": "code",
      "source": [
        "best_pKa"
      ],
      "metadata": {
        "colab": {
          "base_uri": "https://localhost:8080/"
        },
        "id": "1JSvsEHSdjNd",
        "outputId": "f483014c-06a9-4908-84c0-94d02f886703"
      },
      "execution_count": null,
      "outputs": [
        {
          "output_type": "execute_result",
          "data": {
            "text/plain": [
              "6.342849017340716"
            ]
          },
          "metadata": {},
          "execution_count": 22
        }
      ]
    },
    {
      "cell_type": "code",
      "source": [
        "# plot the best fit\n",
        "fit = best_pKa - best_n * np.log((1-alpha) / alpha)\n",
        "plt.plot(alpha, fit)\n",
        "\n",
        "# plot the data\n",
        "plt.plot(alpha,midpoint_df[\"E(pH)\"], '.')\n",
        "\n",
        "# label\n",
        "plt.title('DMAEMA')\n",
        "plt.xlabel(r'$\\alpha$')\n",
        "plt.ylabel('pH')\n",
        "plt.legend([\"fit\",\"data\"]);"
      ],
      "metadata": {
        "colab": {
          "base_uri": "https://localhost:8080/",
          "height": 337
        },
        "id": "_cwMBGK31UfJ",
        "outputId": "194d855e-05e6-424a-965a-8731f64721e3"
      },
      "execution_count": null,
      "outputs": [
        {
          "output_type": "stream",
          "name": "stderr",
          "text": [
            "/usr/local/lib/python3.7/dist-packages/pandas/core/arraylike.py:364: RuntimeWarning: divide by zero encountered in log\n",
            "  result = getattr(ufunc, method)(*inputs, **kwargs)\n"
          ]
        },
        {
          "output_type": "display_data",
          "data": {
            "text/plain": [
              "<Figure size 432x288 with 1 Axes>"
            ],
            "image/png": "[encoded data removed]"
          },
          "metadata": {}
        }
      ]
    }
  ]
}