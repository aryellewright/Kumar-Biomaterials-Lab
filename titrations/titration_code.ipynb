{
  "cells": [
    {
      "cell_type": "markdown",
      "metadata": {
        "colab_type": "text",
        "id": "view-in-github"
      },
      "source": [
        "<a href=\"https://colab.research.google.com/github/aryellewright/Kumar-Lab-Group/blob/main/titration_code.ipynb\" target=\"_parent\"><img src=\"https://colab.research.google.com/assets/colab-badge.svg\" alt=\"Open In Colab\"/></a>"
      ]
    },
    {
      "cell_type": "markdown",
      "metadata": {
        "id": "oPXKURttbi7L"
      },
      "source": [
        "# Imports...Imports...Imports"
      ]
    },
    {
      "cell_type": "code",
      "execution_count": 2,
      "metadata": {
        "colab": {
          "base_uri": "https://localhost:8080/"
        },
        "id": "BtfpiAPVQ4Qg",
        "outputId": "80515013-6b2c-49f3-fea2-8d3a788e00b5"
      },
      "outputs": [],
      "source": [
        "import numpy as np\n",
        "import matplotlib.pyplot as plt \n",
        "import pandas as pd\n",
        "import glob\n",
        "import scipy.stats as stats\n",
        "#from sklearn.linear_model import LinearRegression\n",
        "import seaborn as sns\n",
        "import scipy.optimize\n",
        "sns.set()\n",
        "\n",
        "# from google.colab import drive\n",
        "# drive.mount('/content/drive')"
      ]
    },
    {
      "cell_type": "markdown",
      "metadata": {
        "id": "WKPJee7t5XE2"
      },
      "source": [
        "# Locating data and sorting\n",
        "Upload your csv files to your google drive. Use the '*' symbol to change the directories within your drive to locate your data. Ensure that your files are correct by printing all_files"
      ]
    },
    {
      "cell_type": "code",
      "execution_count": 116,
      "metadata": {
        "colab": {
          "base_uri": "https://localhost:8080/"
        },
        "id": "7W4MhLKLSHUN",
        "outputId": "7f25dbcc-b869-4b3b-d1a9-829cfcbbba99"
      },
      "outputs": [
        {
          "data": {
            "text/plain": [
              "['/content/drive/MyDrive/Titration_data/DMAEMA80-PEG20/T10472_20221206_1641_050_Tdata1.csv',\n",
              " '/content/drive/MyDrive/Titration_data/DMAEMA80-PEG20/T10472_20221206_1641_050_Tdata2.csv',\n",
              " '/content/drive/MyDrive/Titration_data/DMAEMA80-PEG20/T10472_20221206_1641_050_Tdata3.csv']"
            ]
          },
          "execution_count": 116,
          "metadata": {},
          "output_type": "execute_result"
        }
      ],
      "source": [
        "# locating the data in google drive\n",
        "# all_files = glob.glob(\"/*/*/*/*/DMAEMA80-PEG20/*.csv\")\n",
        "\n",
        "# locating the data on your computerf\n",
        "path = '/Users/aryellewright/Documents/GitHub/Kumar-Biomaterials-Lab/titrations/*.csv'\n",
        "files = glob.glob(path)\n",
        "\n",
        "dataframes = [pd.read_csv(file) for file in files]\n",
        "# sorting and displaying our files\n",
        "all_files.sort()\n",
        "all_files"
      ]
    },
    {
      "cell_type": "markdown",
      "metadata": {
        "id": "Nhcz4RPUXpty"
      },
      "source": [
        "When you have trouble uploading data, the following code is used to see your current working directory, since thats usually the problem. "
      ]
    },
    {
      "cell_type": "code",
      "execution_count": 3,
      "metadata": {
        "colab": {
          "base_uri": "https://localhost:8080/"
        },
        "id": "YMgY-paui4Q9",
        "outputId": "7cc7b758-700d-4322-c157-0254f299b284"
      },
      "outputs": [
        {
          "name": "stdout",
          "output_type": "stream",
          "text": [
            "Files in '/Users/aryellewright/Documents/GitHub/Kumar-Biomaterials-Lab/titrations': ['titration_code.ipynb']\n"
          ]
        }
      ],
      "source": [
        "# determining our current working directory whenever \n",
        "import os\n",
        "\n",
        "cwd = os.getcwd()  # Get the current working directory (cwd)\n",
        "files = os.listdir(cwd)  # Get all the files in that directory\n",
        "print(\"Files in %r: %s\" % (cwd, files))"
      ]
    },
    {
      "cell_type": "markdown",
      "metadata": {
        "id": "E5iyblmz5h4x"
      },
      "source": [
        "# Adding a cycle number to keep organize our different csv files\n",
        "We want to enumerate (combine) all of our csv files. Once we add them together, we want to distinguish from one another via a cycle number. "
      ]
    },
    {
      "cell_type": "code",
      "execution_count": 118,
      "metadata": {
        "colab": {
          "base_uri": "https://localhost:8080/"
        },
        "id": "rij_Qiph6ab5",
        "outputId": "25541e6d-7f43-4607-8c0f-6028424bd4b2"
      },
      "outputs": [
        {
          "name": "stdout",
          "output_type": "stream",
          "text": [
            "0 /content/drive/MyDrive/Titration_data/DMAEMA80-PEG20/T10472_20221206_1641_050_Tdata1.csv\n",
            "1 /content/drive/MyDrive/Titration_data/DMAEMA80-PEG20/T10472_20221206_1641_050_Tdata2.csv\n",
            "2 /content/drive/MyDrive/Titration_data/DMAEMA80-PEG20/T10472_20221206_1641_050_Tdata3.csv\n"
          ]
        },
        {
          "data": {
            "text/plain": [
              "[20.0, 20.0, 20.0]"
            ]
          },
          "execution_count": 118,
          "metadata": {},
          "output_type": "execute_result"
        }
      ],
      "source": [
        "# creating an empty list to add our enumerated data to\n",
        "list_df = []  \n",
        "\n",
        "# creating an empty list that outputs the max volume of each csv files\n",
        "# the max volume should be 20mL, but sometimes it's short of that\n",
        "vols = []\n",
        "\n",
        "# looping through all of our enumerated csv files \n",
        "for i, f in enumerate(all_files):\n",
        "  print(i, f)\n",
        "  \n",
        "  # reading our csv files and adding cycle numbers to our dataframe\n",
        "  df = pd.read_csv(f)\n",
        "  df[\"Cycle Number\"] = i\n",
        "  list_df.append(df)\n",
        "\n",
        "  # finding the max volume of each csv file and adding to our volumes list\n",
        "  volume_max = df[\"Volume (mL)\"].max()\n",
        "  vols.append(volume_max)\n",
        "\n",
        "#list_df\n",
        "vols"
      ]
    },
    {
      "cell_type": "markdown",
      "metadata": {
        "id": "t9DFt11-cqxo"
      },
      "source": [
        "# Even when we add the files together, sometimes the volumes are incorrect\n",
        "We have separate csv files because our autotitrator dispenses 20mL in one cycle. This is why there's usually multiple cycles. For exmaple, after two cycles, our final volume should be 40mL, not 20mL. \n",
        "\n",
        "Sometimes, the final volume of a cycle isn't 20mL (because the autotitrator hates us?). As a result, the following code adds the volume of the end of one cycle, to the beginning of the next cycle to ensure that the final volumes are compounded."
      ]
    },
    {
      "cell_type": "code",
      "execution_count": 119,
      "metadata": {
        "colab": {
          "base_uri": "https://localhost:8080/"
        },
        "id": "I364bf4UnbM5",
        "outputId": "4ad7eeaa-e82c-4cc4-a9d5-0cc0c8d3050f"
      },
      "outputs": [
        {
          "data": {
            "text/plain": [
              "[0, 20.0, 40.0]"
            ]
          },
          "execution_count": 119,
          "metadata": {},
          "output_type": "execute_result"
        }
      ],
      "source": [
        "# creating a list to add the final volume of each csv file to\n",
        "adjs = [0]\n",
        "\n",
        "# initiating a counter \n",
        "vol_tally = 0\n",
        "\n",
        "# looping through the vols list from earlier, except for the last volume of our csv file\n",
        "for volume in vols[:-1]:\n",
        "\n",
        "  # compounding the volumes and adding them to our adjs list\n",
        "  vol_tally += volume\n",
        "  adjs.append(vol_tally)\n",
        "\n",
        "vol_tally\n",
        "adjs"
      ]
    },
    {
      "cell_type": "code",
      "execution_count": 120,
      "metadata": {
        "id": "EocPEb45p_-A"
      },
      "outputs": [],
      "source": [
        "# looping through our enumerated dataframe\n",
        "for i, df in enumerate(list_df):\n",
        "\n",
        "  # adding the adjusted volumes to our original dataframe in the volume column\n",
        "  df[\"Volume (mL)\"] += adjs[i]"
      ]
    },
    {
      "cell_type": "code",
      "execution_count": 121,
      "metadata": {
        "id": "udlQmcoGCgS-"
      },
      "outputs": [],
      "source": [
        "# using the concat function to combine the files into one giant datafram\n",
        "concat_df = pd.concat(list_df, ignore_index=True)\n",
        "#concat_df"
      ]
    },
    {
      "cell_type": "markdown",
      "metadata": {
        "id": "vELjBiFcfrVa"
      },
      "source": [
        "# Creating and adding the derivative column to our new concatenated dataframe\n",
        "We want to calulate the dpH/dV at each data point. Calulating the derivative will help us to numerically locate our inflection points on our titration curve. Finding our two inflection points will later help us to quantitatively determine our midpoint. Using the Henderson-Hasselbach equation, our midpoint is where the pH=pKa. I know this was a lot of information at once, but trust me, you'll find out more as we continue. So let's keep going!"
      ]
    },
    {
      "cell_type": "code",
      "execution_count": 122,
      "metadata": {
        "colab": {
          "base_uri": "https://localhost:8080/",
          "height": 461
        },
        "id": "IwydcLEt8fe2",
        "outputId": "24baa243-b440-449c-f886-6d164e624fc3"
      },
      "outputs": [
        {
          "name": "stderr",
          "output_type": "stream",
          "text": [
            "<ipython-input-122-2bcf6f23209e>:13: RuntimeWarning: divide by zero encountered in double_scalars\n",
            "  derivative = (pHs[i] - pHs[i-1]) / (volumes[i] - volumes[i-1])\n"
          ]
        },
        {
          "data": {
            "text/html": [
              "\n",
              "  <div id=\"df-b74dfd54-0133-48a2-98bb-1b4a471ea24f\">\n",
              "    <div class=\"colab-df-container\">\n",
              "      <div>\n",
              "<style scoped>\n",
              "    .dataframe tbody tr th:only-of-type {\n",
              "        vertical-align: middle;\n",
              "    }\n",
              "\n",
              "    .dataframe tbody tr th {\n",
              "        vertical-align: top;\n",
              "    }\n",
              "\n",
              "    .dataframe thead th {\n",
              "        text-align: right;\n",
              "    }\n",
              "</style>\n",
              "<table border=\"1\" class=\"dataframe\">\n",
              "  <thead>\n",
              "    <tr style=\"text-align: right;\">\n",
              "      <th></th>\n",
              "      <th>Row Data #</th>\n",
              "      <th>Volume (mL)</th>\n",
              "      <th>E(pH)</th>\n",
              "      <th>Cycle Number</th>\n",
              "      <th>dpH/dV</th>\n",
              "    </tr>\n",
              "  </thead>\n",
              "  <tbody>\n",
              "    <tr>\n",
              "      <th>0</th>\n",
              "      <td>1</td>\n",
              "      <td>0.000</td>\n",
              "      <td>1.493</td>\n",
              "      <td>0</td>\n",
              "      <td>0.000000</td>\n",
              "    </tr>\n",
              "    <tr>\n",
              "      <th>1</th>\n",
              "      <td>2</td>\n",
              "      <td>0.010</td>\n",
              "      <td>1.489</td>\n",
              "      <td>0</td>\n",
              "      <td>-0.400000</td>\n",
              "    </tr>\n",
              "    <tr>\n",
              "      <th>2</th>\n",
              "      <td>3</td>\n",
              "      <td>0.048</td>\n",
              "      <td>1.487</td>\n",
              "      <td>0</td>\n",
              "      <td>-0.052632</td>\n",
              "    </tr>\n",
              "    <tr>\n",
              "      <th>3</th>\n",
              "      <td>4</td>\n",
              "      <td>0.124</td>\n",
              "      <td>1.485</td>\n",
              "      <td>0</td>\n",
              "      <td>-0.026316</td>\n",
              "    </tr>\n",
              "    <tr>\n",
              "      <th>4</th>\n",
              "      <td>5</td>\n",
              "      <td>0.274</td>\n",
              "      <td>1.483</td>\n",
              "      <td>0</td>\n",
              "      <td>-0.013333</td>\n",
              "    </tr>\n",
              "    <tr>\n",
              "      <th>...</th>\n",
              "      <td>...</td>\n",
              "      <td>...</td>\n",
              "      <td>...</td>\n",
              "      <td>...</td>\n",
              "      <td>...</td>\n",
              "    </tr>\n",
              "    <tr>\n",
              "      <th>201</th>\n",
              "      <td>92</td>\n",
              "      <td>58.408</td>\n",
              "      <td>12.328</td>\n",
              "      <td>2</td>\n",
              "      <td>0.075000</td>\n",
              "    </tr>\n",
              "    <tr>\n",
              "      <th>202</th>\n",
              "      <td>93</td>\n",
              "      <td>58.808</td>\n",
              "      <td>12.368</td>\n",
              "      <td>2</td>\n",
              "      <td>0.100000</td>\n",
              "    </tr>\n",
              "    <tr>\n",
              "      <th>203</th>\n",
              "      <td>94</td>\n",
              "      <td>59.208</td>\n",
              "      <td>12.401</td>\n",
              "      <td>2</td>\n",
              "      <td>0.082500</td>\n",
              "    </tr>\n",
              "    <tr>\n",
              "      <th>204</th>\n",
              "      <td>95</td>\n",
              "      <td>59.608</td>\n",
              "      <td>12.424</td>\n",
              "      <td>2</td>\n",
              "      <td>0.057500</td>\n",
              "    </tr>\n",
              "    <tr>\n",
              "      <th>205</th>\n",
              "      <td>96</td>\n",
              "      <td>60.000</td>\n",
              "      <td>12.441</td>\n",
              "      <td>2</td>\n",
              "      <td>0.043367</td>\n",
              "    </tr>\n",
              "  </tbody>\n",
              "</table>\n",
              "<p>206 rows × 5 columns</p>\n",
              "</div>\n",
              "      <button class=\"colab-df-convert\" onclick=\"convertToInteractive('df-b74dfd54-0133-48a2-98bb-1b4a471ea24f')\"\n",
              "              title=\"Convert this dataframe to an interactive table.\"\n",
              "              style=\"display:none;\">\n",
              "        \n",
              "  <svg xmlns=\"http://www.w3.org/2000/svg\" height=\"24px\"viewBox=\"0 0 24 24\"\n",
              "       width=\"24px\">\n",
              "    <path d=\"M0 0h24v24H0V0z\" fill=\"none\"/>\n",
              "    <path d=\"M18.56 5.44l.94 2.06.94-2.06 2.06-.94-2.06-.94-.94-2.06-.94 2.06-2.06.94zm-11 1L8.5 8.5l.94-2.06 2.06-.94-2.06-.94L8.5 2.5l-.94 2.06-2.06.94zm10 10l.94 2.06.94-2.06 2.06-.94-2.06-.94-.94-2.06-.94 2.06-2.06.94z\"/><path d=\"M17.41 7.96l-1.37-1.37c-.4-.4-.92-.59-1.43-.59-.52 0-1.04.2-1.43.59L10.3 9.45l-7.72 7.72c-.78.78-.78 2.05 0 2.83L4 21.41c.39.39.9.59 1.41.59.51 0 1.02-.2 1.41-.59l7.78-7.78 2.81-2.81c.8-.78.8-2.07 0-2.86zM5.41 20L4 18.59l7.72-7.72 1.47 1.35L5.41 20z\"/>\n",
              "  </svg>\n",
              "      </button>\n",
              "      \n",
              "  <style>\n",
              "    .colab-df-container {\n",
              "      display:flex;\n",
              "      flex-wrap:wrap;\n",
              "      gap: 12px;\n",
              "    }\n",
              "\n",
              "    .colab-df-convert {\n",
              "      background-color: #E8F0FE;\n",
              "      border: none;\n",
              "      border-radius: 50%;\n",
              "      cursor: pointer;\n",
              "      display: none;\n",
              "      fill: #1967D2;\n",
              "      height: 32px;\n",
              "      padding: 0 0 0 0;\n",
              "      width: 32px;\n",
              "    }\n",
              "\n",
              "    .colab-df-convert:hover {\n",
              "      background-color: #E2EBFA;\n",
              "      box-shadow: 0px 1px 2px rgba(60, 64, 67, 0.3), 0px 1px 3px 1px rgba(60, 64, 67, 0.15);\n",
              "      fill: #174EA6;\n",
              "    }\n",
              "\n",
              "    [theme=dark] .colab-df-convert {\n",
              "      background-color: #3B4455;\n",
              "      fill: #D2E3FC;\n",
              "    }\n",
              "\n",
              "    [theme=dark] .colab-df-convert:hover {\n",
              "      background-color: #434B5C;\n",
              "      box-shadow: 0px 1px 3px 1px rgba(0, 0, 0, 0.15);\n",
              "      filter: drop-shadow(0px 1px 2px rgba(0, 0, 0, 0.3));\n",
              "      fill: #FFFFFF;\n",
              "    }\n",
              "  </style>\n",
              "\n",
              "      <script>\n",
              "        const buttonEl =\n",
              "          document.querySelector('#df-b74dfd54-0133-48a2-98bb-1b4a471ea24f button.colab-df-convert');\n",
              "        buttonEl.style.display =\n",
              "          google.colab.kernel.accessAllowed ? 'block' : 'none';\n",
              "\n",
              "        async function convertToInteractive(key) {\n",
              "          const element = document.querySelector('#df-b74dfd54-0133-48a2-98bb-1b4a471ea24f');\n",
              "          const dataTable =\n",
              "            await google.colab.kernel.invokeFunction('convertToInteractive',\n",
              "                                                     [key], {});\n",
              "          if (!dataTable) return;\n",
              "\n",
              "          const docLinkHtml = 'Like what you see? Visit the ' +\n",
              "            '<a target=\"_blank\" href=https://colab.research.google.com/notebooks/data_table.ipynb>data table notebook</a>'\n",
              "            + ' to learn more about interactive tables.';\n",
              "          element.innerHTML = '';\n",
              "          dataTable['output_type'] = 'display_data';\n",
              "          await google.colab.output.renderOutput(dataTable, element);\n",
              "          const docLink = document.createElement('div');\n",
              "          docLink.innerHTML = docLinkHtml;\n",
              "          element.appendChild(docLink);\n",
              "        }\n",
              "      </script>\n",
              "    </div>\n",
              "  </div>\n",
              "  "
            ],
            "text/plain": [
              "     Row Data #  Volume (mL)   E(pH)  Cycle Number    dpH/dV\n",
              "0             1        0.000   1.493             0  0.000000\n",
              "1             2        0.010   1.489             0 -0.400000\n",
              "2             3        0.048   1.487             0 -0.052632\n",
              "3             4        0.124   1.485             0 -0.026316\n",
              "4             5        0.274   1.483             0 -0.013333\n",
              "..          ...          ...     ...           ...       ...\n",
              "201          92       58.408  12.328             2  0.075000\n",
              "202          93       58.808  12.368             2  0.100000\n",
              "203          94       59.208  12.401             2  0.082500\n",
              "204          95       59.608  12.424             2  0.057500\n",
              "205          96       60.000  12.441             2  0.043367\n",
              "\n",
              "[206 rows x 5 columns]"
            ]
          },
          "execution_count": 122,
          "metadata": {},
          "output_type": "execute_result"
        }
      ],
      "source": [
        "# locating the volumes and pH column values in our dataframe and saving them as a variables\n",
        "volumes = concat_df[\"Volume (mL)\"]\n",
        "pHs = concat_df[\"E(pH)\"]\n",
        "\n",
        "# creating an empty list for our derivative values\n",
        "derivatives_list = [0]\n",
        "\n",
        "# looping through the length of our column, volumes \n",
        "for i in range(1, len(volumes)):\n",
        "  #print(i)\n",
        "\n",
        "  # calculating the derivative of pH/volume\n",
        "  derivative = (pHs[i] - pHs[i-1]) / (volumes[i] - volumes[i-1])\n",
        "\n",
        "  # adding our calculation to our list\n",
        "  derivatives_list.append(derivative)\n",
        "\n",
        "# adding a 'derivatives' column to our dataframe\n",
        "concat_df[\"dpH/dV\"] = derivatives_list\n",
        "\n",
        "concat_df"
      ]
    },
    {
      "cell_type": "markdown",
      "metadata": {
        "id": "_4CLBqtqgZrT"
      },
      "source": [
        "# We <3 graphing! \n",
        "Now that we've reorganized our data frame that ensures our volumes are compounded, we're going to plot our titration curve and derivative plot. "
      ]
    },
    {
      "cell_type": "code",
      "execution_count": 123,
      "metadata": {
        "colab": {
          "base_uri": "https://localhost:8080/",
          "height": 285
        },
        "id": "pp5ivAr_GBkJ",
        "outputId": "a4e86f92-17f0-4c7a-8045-889d175b628b"
      },
      "outputs": [
        {
          "data": {
            "image/png": "[encoded data removed]",
            "text/plain": [
              "<Figure size 432x288 with 2 Axes>"
            ]
          },
          "metadata": {},
          "output_type": "display_data"
        }
      ],
      "source": [
        "# creating a plot that can have two y-axis\n",
        "fig, titration_curve = plt.subplots()\n",
        "\n",
        "# plotting the two sets of data\n",
        "derivative_curve = titration_curve.twinx()\n",
        "titration_curve.plot(volumes, pHs, '.', color='darkmagenta')\n",
        "derivative_curve.plot(volumes, derivatives_list, '+', color='darkcyan')\n",
        "\n",
        "# labelling the axes and adding color \n",
        "titration_curve.set_xlabel('Volume of 0.05M NaOH (mL)')\n",
        "titration_curve.set_ylabel('pH', color='darkmagenta')\n",
        "derivative_curve.set_ylabel('dpH/dV', color='darkcyan');"
      ]
    },
    {
      "cell_type": "markdown",
      "metadata": {
        "id": "1X9nHrgODNF2"
      },
      "source": [
        "# Woah, that's way too far away. Let's zoom in.\n",
        "To zoom in on the important parts of our graph, adjust the min_x and max_x variables to your liking. For my data, I chose 40 and 55 because I felt like it."
      ]
    },
    {
      "cell_type": "code",
      "execution_count": 124,
      "metadata": {
        "colab": {
          "base_uri": "https://localhost:8080/",
          "height": 301
        },
        "id": "j6XDA_ohw-w7",
        "outputId": "246b0f30-f018-41d8-9cc7-375df73ba683"
      },
      "outputs": [
        {
          "data": {
            "image/png": "[encoded data removed]",
            "text/plain": [
              "<Figure size 432x288 with 2 Axes>"
            ]
          },
          "metadata": {},
          "output_type": "display_data"
        }
      ],
      "source": [
        "# trimming to look at just a region\n",
        "min_x = 40\n",
        "max_x = 55\n",
        "\n",
        "# trimming our data fram to only include the volumes that are greater than our minimum x value and less than our maximum x value\n",
        "trimmed_df = concat_df[(concat_df[\"Volume (mL)\"] > min_x) \n",
        "                       & (concat_df[\"Volume (mL)\"] < max_x)]\n",
        "\n",
        "# saving our volumes, pH, and derivatives as variables from our newest trimmed dataframe\n",
        "volumes = trimmed_df[\"Volume (mL)\"]\n",
        "pHs = trimmed_df[\"E(pH)\"]\n",
        "derivatives_list = trimmed_df[\"dpH/dV\"]\n",
        "\n",
        "\n",
        "# creating a plot that can have two y-axis\n",
        "fig, titration_curve = plt.subplots()\n",
        "\n",
        "# plotting the two sets of data\n",
        "derivative_curve = titration_curve.twinx()\n",
        "titration_curve.plot(volumes, pHs, '.', color='darkmagenta')\n",
        "derivative_curve.plot(volumes, derivatives_list, '+', color='darkcyan')\n",
        "\n",
        "# labelling the axes and adding color \n",
        "titration_curve.set_title('p(DMAEMA-st-PEGMA): 80/20')\n",
        "titration_curve.set_xlabel('Volume of 0.05M NaOH (mL)')\n",
        "titration_curve.set_ylabel('pH', color='darkmagenta')\n",
        "derivative_curve.set_ylabel('dpH/dV', color='darkcyan');"
      ]
    },
    {
      "cell_type": "markdown",
      "metadata": {
        "id": "taLHC5Kzgz7b"
      },
      "source": [
        "# Let's quantitatively locate our inflection points\n",
        "Below, I set a region of interest around our two inflection points to locate them. You need to chance the values for region 1 and region two so that each inflection point is in the middle of them. For example, I choose region 1 to be between 44 and 46 and regino 2 to be between 48 and 52. "
      ]
    },
    {
      "cell_type": "code",
      "execution_count": 125,
      "metadata": {
        "colab": {
          "base_uri": "https://localhost:8080/"
        },
        "id": "fRMQyXLTTiT5",
        "outputId": "699f9af0-11ef-4d26-c240-c55b0a4d190b"
      },
      "outputs": [
        {
          "name": "stdout",
          "output_type": "stream",
          "text": [
            "     Row Data #  Volume (mL)  E(pH)  Cycle Number    dpH/dV\n",
            "130          21       44.763  4.665             2  3.765957\n",
            "     Row Data #  Volume (mL)  E(pH)  Cycle Number    dpH/dV\n",
            "176          67       50.259  9.633             2  2.285714\n"
          ]
        }
      ],
      "source": [
        "# need to change these according to location of inflection pt. on plot above!\n",
        "region_1 = [44, 46]\n",
        "region_2 = [48, 52]\n",
        "\n",
        "# finding our two infl\n",
        "inflection_pt_1 = concat_df[(concat_df[\"Volume (mL)\"]  >= region_1[0]) & \n",
        "                                  (concat_df[\"Volume (mL)\"] <= region_1[1]) &\n",
        "                                  (concat_df[\"dpH/dV\"] != np.inf) ]\n",
        "inflection_pt_2 = concat_df[(concat_df[\"Volume (mL)\"]  >= region_2[0]) & \n",
        "                                  (concat_df[\"Volume (mL)\"] <= region_2[1]) &\n",
        "                                  (concat_df[\"dpH/dV\"] != np.inf) ]\n",
        "\n",
        "# printing the rows of data for the two inbflection points \n",
        "print(inflection_pt_1.sort_values(by=\"dpH/dV\")[-1:])\n",
        "#print()\n",
        "print(inflection_pt_2.sort_values(by=\"dpH/dV\")[-1:])"
      ]
    },
    {
      "cell_type": "code",
      "execution_count": 126,
      "metadata": {
        "colab": {
          "base_uri": "https://localhost:8080/"
        },
        "id": "SELNL3uaX_As",
        "outputId": "b9708710-bba5-4a9e-e954-6a847df6a72a"
      },
      "outputs": [
        {
          "name": "stdout",
          "output_type": "stream",
          "text": [
            "[44.763, 50.259]\n"
          ]
        }
      ],
      "source": [
        "# saving the rows of the two inflectino points\n",
        "first_infl_pt = inflection_pt_1.sort_values(by=\"dpH/dV\", ascending=False)[:1]\n",
        "second_infl_pt = inflection_pt_2.sort_values(by=\"dpH/dV\", ascending=False)[:1]\n",
        "\n",
        "# finding the volume of the first inflection pt and the volume of the second inflection pt\n",
        "inflection_pts_volume = [first_infl_pt[\"Volume (mL)\"].values[0], second_infl_pt[\"Volume (mL)\"].values[0]]\n",
        "\n",
        "print(inflection_pts_volume)"
      ]
    },
    {
      "cell_type": "markdown",
      "metadata": {
        "id": "suNx2qLxhrw8"
      },
      "source": [
        "# Calculating the midpoint\n",
        "Knowing the volumes of the two inflection points, we can calculate the mean to determine the volume of the midpoint"
      ]
    },
    {
      "cell_type": "code",
      "execution_count": 127,
      "metadata": {
        "colab": {
          "base_uri": "https://localhost:8080/"
        },
        "id": "PIaTsarLcR0L",
        "outputId": "3fd86bf2-c9ef-4d5e-858f-c67eb22046d5"
      },
      "outputs": [
        {
          "data": {
            "text/plain": [
              "47.510999999999996"
            ]
          },
          "execution_count": 127,
          "metadata": {},
          "output_type": "execute_result"
        }
      ],
      "source": [
        "# finding the average of the two inflection points\n",
        "volume_midpoint = np.mean(inflection_pts_volume)\n",
        "\n",
        "# the volume of our midpoint\n",
        "volume_midpoint"
      ]
    },
    {
      "cell_type": "markdown",
      "metadata": {
        "id": "I65ElmFWhzC2"
      },
      "source": [
        "# Creating a dataframe of the most important info\n",
        "In the following code, I create a dataframe of all the data between the two inflection points. Knowing the volume of our midpoint, you should rememeber that value and locate it in the midpoint dataframe. \n",
        "\n",
        "For example, since my midpoint volume is at 47.5mL, my pH is around 6.85. Remeber this value because it'll be used later for our chi-squared test. "
      ]
    },
    {
      "cell_type": "code",
      "execution_count": 128,
      "metadata": {
        "colab": {
          "base_uri": "https://localhost:8080/",
          "height": 1000
        },
        "id": "pYk2TyMfjT_X",
        "outputId": "498028d6-e425-4ef5-91ce-dec913062a87"
      },
      "outputs": [
        {
          "data": {
            "text/html": [
              "\n",
              "  <div id=\"df-70f7b4d1-4473-4c21-a5cc-8eb46e32293e\">\n",
              "    <div class=\"colab-df-container\">\n",
              "      <div>\n",
              "<style scoped>\n",
              "    .dataframe tbody tr th:only-of-type {\n",
              "        vertical-align: middle;\n",
              "    }\n",
              "\n",
              "    .dataframe tbody tr th {\n",
              "        vertical-align: top;\n",
              "    }\n",
              "\n",
              "    .dataframe thead th {\n",
              "        text-align: right;\n",
              "    }\n",
              "</style>\n",
              "<table border=\"1\" class=\"dataframe\">\n",
              "  <thead>\n",
              "    <tr style=\"text-align: right;\">\n",
              "      <th></th>\n",
              "      <th>Row Data #</th>\n",
              "      <th>Volume (mL)</th>\n",
              "      <th>E(pH)</th>\n",
              "      <th>Cycle Number</th>\n",
              "      <th>dpH/dV</th>\n",
              "    </tr>\n",
              "  </thead>\n",
              "  <tbody>\n",
              "    <tr>\n",
              "      <th>130</th>\n",
              "      <td>21</td>\n",
              "      <td>44.763</td>\n",
              "      <td>4.665</td>\n",
              "      <td>2</td>\n",
              "      <td>3.765957</td>\n",
              "    </tr>\n",
              "    <tr>\n",
              "      <th>131</th>\n",
              "      <td>22</td>\n",
              "      <td>44.809</td>\n",
              "      <td>4.811</td>\n",
              "      <td>2</td>\n",
              "      <td>3.173913</td>\n",
              "    </tr>\n",
              "    <tr>\n",
              "      <th>132</th>\n",
              "      <td>23</td>\n",
              "      <td>44.859</td>\n",
              "      <td>4.934</td>\n",
              "      <td>2</td>\n",
              "      <td>2.460000</td>\n",
              "    </tr>\n",
              "    <tr>\n",
              "      <th>133</th>\n",
              "      <td>24</td>\n",
              "      <td>44.917</td>\n",
              "      <td>5.078</td>\n",
              "      <td>2</td>\n",
              "      <td>2.482759</td>\n",
              "    </tr>\n",
              "    <tr>\n",
              "      <th>134</th>\n",
              "      <td>25</td>\n",
              "      <td>44.981</td>\n",
              "      <td>5.175</td>\n",
              "      <td>2</td>\n",
              "      <td>1.515625</td>\n",
              "    </tr>\n",
              "    <tr>\n",
              "      <th>135</th>\n",
              "      <td>26</td>\n",
              "      <td>45.063</td>\n",
              "      <td>5.310</td>\n",
              "      <td>2</td>\n",
              "      <td>1.646341</td>\n",
              "    </tr>\n",
              "    <tr>\n",
              "      <th>136</th>\n",
              "      <td>27</td>\n",
              "      <td>45.155</td>\n",
              "      <td>5.430</td>\n",
              "      <td>2</td>\n",
              "      <td>1.304348</td>\n",
              "    </tr>\n",
              "    <tr>\n",
              "      <th>137</th>\n",
              "      <td>28</td>\n",
              "      <td>45.264</td>\n",
              "      <td>5.551</td>\n",
              "      <td>2</td>\n",
              "      <td>1.110092</td>\n",
              "    </tr>\n",
              "    <tr>\n",
              "      <th>138</th>\n",
              "      <td>29</td>\n",
              "      <td>45.393</td>\n",
              "      <td>5.662</td>\n",
              "      <td>2</td>\n",
              "      <td>0.860465</td>\n",
              "    </tr>\n",
              "    <tr>\n",
              "      <th>139</th>\n",
              "      <td>30</td>\n",
              "      <td>45.459</td>\n",
              "      <td>5.729</td>\n",
              "      <td>2</td>\n",
              "      <td>1.015152</td>\n",
              "    </tr>\n",
              "    <tr>\n",
              "      <th>140</th>\n",
              "      <td>31</td>\n",
              "      <td>45.588</td>\n",
              "      <td>5.841</td>\n",
              "      <td>2</td>\n",
              "      <td>0.868217</td>\n",
              "    </tr>\n",
              "    <tr>\n",
              "      <th>141</th>\n",
              "      <td>32</td>\n",
              "      <td>45.745</td>\n",
              "      <td>5.948</td>\n",
              "      <td>2</td>\n",
              "      <td>0.681529</td>\n",
              "    </tr>\n",
              "    <tr>\n",
              "      <th>142</th>\n",
              "      <td>33</td>\n",
              "      <td>45.862</td>\n",
              "      <td>6.038</td>\n",
              "      <td>2</td>\n",
              "      <td>0.769231</td>\n",
              "    </tr>\n",
              "    <tr>\n",
              "      <th>143</th>\n",
              "      <td>34</td>\n",
              "      <td>46.019</td>\n",
              "      <td>6.128</td>\n",
              "      <td>2</td>\n",
              "      <td>0.573248</td>\n",
              "    </tr>\n",
              "    <tr>\n",
              "      <th>144</th>\n",
              "      <td>35</td>\n",
              "      <td>46.227</td>\n",
              "      <td>6.234</td>\n",
              "      <td>2</td>\n",
              "      <td>0.509615</td>\n",
              "    </tr>\n",
              "    <tr>\n",
              "      <th>145</th>\n",
              "      <td>36</td>\n",
              "      <td>46.346</td>\n",
              "      <td>6.300</td>\n",
              "      <td>2</td>\n",
              "      <td>0.554622</td>\n",
              "    </tr>\n",
              "    <tr>\n",
              "      <th>146</th>\n",
              "      <td>37</td>\n",
              "      <td>46.554</td>\n",
              "      <td>6.408</td>\n",
              "      <td>2</td>\n",
              "      <td>0.519231</td>\n",
              "    </tr>\n",
              "    <tr>\n",
              "      <th>147</th>\n",
              "      <td>38</td>\n",
              "      <td>46.810</td>\n",
              "      <td>6.526</td>\n",
              "      <td>2</td>\n",
              "      <td>0.460937</td>\n",
              "    </tr>\n",
              "    <tr>\n",
              "      <th>148</th>\n",
              "      <td>39</td>\n",
              "      <td>46.883</td>\n",
              "      <td>6.577</td>\n",
              "      <td>2</td>\n",
              "      <td>0.698630</td>\n",
              "    </tr>\n",
              "    <tr>\n",
              "      <th>149</th>\n",
              "      <td>40</td>\n",
              "      <td>47.131</td>\n",
              "      <td>6.683</td>\n",
              "      <td>2</td>\n",
              "      <td>0.427419</td>\n",
              "    </tr>\n",
              "    <tr>\n",
              "      <th>150</th>\n",
              "      <td>41</td>\n",
              "      <td>47.440</td>\n",
              "      <td>6.816</td>\n",
              "      <td>2</td>\n",
              "      <td>0.430421</td>\n",
              "    </tr>\n",
              "    <tr>\n",
              "      <th>151</th>\n",
              "      <td>42</td>\n",
              "      <td>47.616</td>\n",
              "      <td>6.912</td>\n",
              "      <td>2</td>\n",
              "      <td>0.545455</td>\n",
              "    </tr>\n",
              "    <tr>\n",
              "      <th>152</th>\n",
              "      <td>43</td>\n",
              "      <td>47.836</td>\n",
              "      <td>7.020</td>\n",
              "      <td>2</td>\n",
              "      <td>0.490909</td>\n",
              "    </tr>\n",
              "    <tr>\n",
              "      <th>153</th>\n",
              "      <td>44</td>\n",
              "      <td>47.970</td>\n",
              "      <td>7.102</td>\n",
              "      <td>2</td>\n",
              "      <td>0.611940</td>\n",
              "    </tr>\n",
              "    <tr>\n",
              "      <th>154</th>\n",
              "      <td>45</td>\n",
              "      <td>48.279</td>\n",
              "      <td>7.289</td>\n",
              "      <td>2</td>\n",
              "      <td>0.605178</td>\n",
              "    </tr>\n",
              "    <tr>\n",
              "      <th>155</th>\n",
              "      <td>46</td>\n",
              "      <td>48.447</td>\n",
              "      <td>7.399</td>\n",
              "      <td>2</td>\n",
              "      <td>0.654762</td>\n",
              "    </tr>\n",
              "    <tr>\n",
              "      <th>156</th>\n",
              "      <td>47</td>\n",
              "      <td>48.580</td>\n",
              "      <td>7.500</td>\n",
              "      <td>2</td>\n",
              "      <td>0.759398</td>\n",
              "    </tr>\n",
              "    <tr>\n",
              "      <th>157</th>\n",
              "      <td>48</td>\n",
              "      <td>48.720</td>\n",
              "      <td>7.605</td>\n",
              "      <td>2</td>\n",
              "      <td>0.750000</td>\n",
              "    </tr>\n",
              "    <tr>\n",
              "      <th>158</th>\n",
              "      <td>49</td>\n",
              "      <td>48.874</td>\n",
              "      <td>7.721</td>\n",
              "      <td>2</td>\n",
              "      <td>0.753247</td>\n",
              "    </tr>\n",
              "    <tr>\n",
              "      <th>159</th>\n",
              "      <td>50</td>\n",
              "      <td>49.036</td>\n",
              "      <td>7.852</td>\n",
              "      <td>2</td>\n",
              "      <td>0.808642</td>\n",
              "    </tr>\n",
              "    <tr>\n",
              "      <th>160</th>\n",
              "      <td>51</td>\n",
              "      <td>49.137</td>\n",
              "      <td>7.946</td>\n",
              "      <td>2</td>\n",
              "      <td>0.930693</td>\n",
              "    </tr>\n",
              "    <tr>\n",
              "      <th>161</th>\n",
              "      <td>52</td>\n",
              "      <td>49.251</td>\n",
              "      <td>8.055</td>\n",
              "      <td>2</td>\n",
              "      <td>0.956140</td>\n",
              "    </tr>\n",
              "    <tr>\n",
              "      <th>162</th>\n",
              "      <td>53</td>\n",
              "      <td>49.321</td>\n",
              "      <td>8.140</td>\n",
              "      <td>2</td>\n",
              "      <td>1.214286</td>\n",
              "    </tr>\n",
              "    <tr>\n",
              "      <th>163</th>\n",
              "      <td>54</td>\n",
              "      <td>49.394</td>\n",
              "      <td>8.212</td>\n",
              "      <td>2</td>\n",
              "      <td>0.986301</td>\n",
              "    </tr>\n",
              "    <tr>\n",
              "      <th>164</th>\n",
              "      <td>55</td>\n",
              "      <td>49.479</td>\n",
              "      <td>8.327</td>\n",
              "      <td>2</td>\n",
              "      <td>1.352941</td>\n",
              "    </tr>\n",
              "    <tr>\n",
              "      <th>165</th>\n",
              "      <td>56</td>\n",
              "      <td>49.538</td>\n",
              "      <td>8.418</td>\n",
              "      <td>2</td>\n",
              "      <td>1.542373</td>\n",
              "    </tr>\n",
              "    <tr>\n",
              "      <th>166</th>\n",
              "      <td>57</td>\n",
              "      <td>49.598</td>\n",
              "      <td>8.499</td>\n",
              "      <td>2</td>\n",
              "      <td>1.350000</td>\n",
              "    </tr>\n",
              "    <tr>\n",
              "      <th>167</th>\n",
              "      <td>58</td>\n",
              "      <td>49.645</td>\n",
              "      <td>8.590</td>\n",
              "      <td>2</td>\n",
              "      <td>1.936170</td>\n",
              "    </tr>\n",
              "    <tr>\n",
              "      <th>168</th>\n",
              "      <td>59</td>\n",
              "      <td>49.738</td>\n",
              "      <td>8.708</td>\n",
              "      <td>2</td>\n",
              "      <td>1.268817</td>\n",
              "    </tr>\n",
              "    <tr>\n",
              "      <th>169</th>\n",
              "      <td>60</td>\n",
              "      <td>49.783</td>\n",
              "      <td>8.799</td>\n",
              "      <td>2</td>\n",
              "      <td>2.022222</td>\n",
              "    </tr>\n",
              "    <tr>\n",
              "      <th>170</th>\n",
              "      <td>61</td>\n",
              "      <td>49.843</td>\n",
              "      <td>8.920</td>\n",
              "      <td>2</td>\n",
              "      <td>2.016667</td>\n",
              "    </tr>\n",
              "    <tr>\n",
              "      <th>171</th>\n",
              "      <td>62</td>\n",
              "      <td>49.891</td>\n",
              "      <td>9.013</td>\n",
              "      <td>2</td>\n",
              "      <td>1.937500</td>\n",
              "    </tr>\n",
              "    <tr>\n",
              "      <th>172</th>\n",
              "      <td>63</td>\n",
              "      <td>49.969</td>\n",
              "      <td>9.141</td>\n",
              "      <td>2</td>\n",
              "      <td>1.641026</td>\n",
              "    </tr>\n",
              "    <tr>\n",
              "      <th>173</th>\n",
              "      <td>64</td>\n",
              "      <td>50.036</td>\n",
              "      <td>9.264</td>\n",
              "      <td>2</td>\n",
              "      <td>1.835821</td>\n",
              "    </tr>\n",
              "    <tr>\n",
              "      <th>174</th>\n",
              "      <td>65</td>\n",
              "      <td>50.139</td>\n",
              "      <td>9.424</td>\n",
              "      <td>2</td>\n",
              "      <td>1.553398</td>\n",
              "    </tr>\n",
              "    <tr>\n",
              "      <th>175</th>\n",
              "      <td>66</td>\n",
              "      <td>50.231</td>\n",
              "      <td>9.569</td>\n",
              "      <td>2</td>\n",
              "      <td>1.576087</td>\n",
              "    </tr>\n",
              "    <tr>\n",
              "      <th>176</th>\n",
              "      <td>67</td>\n",
              "      <td>50.259</td>\n",
              "      <td>9.633</td>\n",
              "      <td>2</td>\n",
              "      <td>2.285714</td>\n",
              "    </tr>\n",
              "  </tbody>\n",
              "</table>\n",
              "</div>\n",
              "      <button class=\"colab-df-convert\" onclick=\"convertToInteractive('df-70f7b4d1-4473-4c21-a5cc-8eb46e32293e')\"\n",
              "              title=\"Convert this dataframe to an interactive table.\"\n",
              "              style=\"display:none;\">\n",
              "        \n",
              "  <svg xmlns=\"http://www.w3.org/2000/svg\" height=\"24px\"viewBox=\"0 0 24 24\"\n",
              "       width=\"24px\">\n",
              "    <path d=\"M0 0h24v24H0V0z\" fill=\"none\"/>\n",
              "    <path d=\"M18.56 5.44l.94 2.06.94-2.06 2.06-.94-2.06-.94-.94-2.06-.94 2.06-2.06.94zm-11 1L8.5 8.5l.94-2.06 2.06-.94-2.06-.94L8.5 2.5l-.94 2.06-2.06.94zm10 10l.94 2.06.94-2.06 2.06-.94-2.06-.94-.94-2.06-.94 2.06-2.06.94z\"/><path d=\"M17.41 7.96l-1.37-1.37c-.4-.4-.92-.59-1.43-.59-.52 0-1.04.2-1.43.59L10.3 9.45l-7.72 7.72c-.78.78-.78 2.05 0 2.83L4 21.41c.39.39.9.59 1.41.59.51 0 1.02-.2 1.41-.59l7.78-7.78 2.81-2.81c.8-.78.8-2.07 0-2.86zM5.41 20L4 18.59l7.72-7.72 1.47 1.35L5.41 20z\"/>\n",
              "  </svg>\n",
              "      </button>\n",
              "      \n",
              "  <style>\n",
              "    .colab-df-container {\n",
              "      display:flex;\n",
              "      flex-wrap:wrap;\n",
              "      gap: 12px;\n",
              "    }\n",
              "\n",
              "    .colab-df-convert {\n",
              "      background-color: #E8F0FE;\n",
              "      border: none;\n",
              "      border-radius: 50%;\n",
              "      cursor: pointer;\n",
              "      display: none;\n",
              "      fill: #1967D2;\n",
              "      height: 32px;\n",
              "      padding: 0 0 0 0;\n",
              "      width: 32px;\n",
              "    }\n",
              "\n",
              "    .colab-df-convert:hover {\n",
              "      background-color: #E2EBFA;\n",
              "      box-shadow: 0px 1px 2px rgba(60, 64, 67, 0.3), 0px 1px 3px 1px rgba(60, 64, 67, 0.15);\n",
              "      fill: #174EA6;\n",
              "    }\n",
              "\n",
              "    [theme=dark] .colab-df-convert {\n",
              "      background-color: #3B4455;\n",
              "      fill: #D2E3FC;\n",
              "    }\n",
              "\n",
              "    [theme=dark] .colab-df-convert:hover {\n",
              "      background-color: #434B5C;\n",
              "      box-shadow: 0px 1px 3px 1px rgba(0, 0, 0, 0.15);\n",
              "      filter: drop-shadow(0px 1px 2px rgba(0, 0, 0, 0.3));\n",
              "      fill: #FFFFFF;\n",
              "    }\n",
              "  </style>\n",
              "\n",
              "      <script>\n",
              "        const buttonEl =\n",
              "          document.querySelector('#df-70f7b4d1-4473-4c21-a5cc-8eb46e32293e button.colab-df-convert');\n",
              "        buttonEl.style.display =\n",
              "          google.colab.kernel.accessAllowed ? 'block' : 'none';\n",
              "\n",
              "        async function convertToInteractive(key) {\n",
              "          const element = document.querySelector('#df-70f7b4d1-4473-4c21-a5cc-8eb46e32293e');\n",
              "          const dataTable =\n",
              "            await google.colab.kernel.invokeFunction('convertToInteractive',\n",
              "                                                     [key], {});\n",
              "          if (!dataTable) return;\n",
              "\n",
              "          const docLinkHtml = 'Like what you see? Visit the ' +\n",
              "            '<a target=\"_blank\" href=https://colab.research.google.com/notebooks/data_table.ipynb>data table notebook</a>'\n",
              "            + ' to learn more about interactive tables.';\n",
              "          element.innerHTML = '';\n",
              "          dataTable['output_type'] = 'display_data';\n",
              "          await google.colab.output.renderOutput(dataTable, element);\n",
              "          const docLink = document.createElement('div');\n",
              "          docLink.innerHTML = docLinkHtml;\n",
              "          element.appendChild(docLink);\n",
              "        }\n",
              "      </script>\n",
              "    </div>\n",
              "  </div>\n",
              "  "
            ],
            "text/plain": [
              "     Row Data #  Volume (mL)  E(pH)  Cycle Number    dpH/dV\n",
              "130          21       44.763  4.665             2  3.765957\n",
              "131          22       44.809  4.811             2  3.173913\n",
              "132          23       44.859  4.934             2  2.460000\n",
              "133          24       44.917  5.078             2  2.482759\n",
              "134          25       44.981  5.175             2  1.515625\n",
              "135          26       45.063  5.310             2  1.646341\n",
              "136          27       45.155  5.430             2  1.304348\n",
              "137          28       45.264  5.551             2  1.110092\n",
              "138          29       45.393  5.662             2  0.860465\n",
              "139          30       45.459  5.729             2  1.015152\n",
              "140          31       45.588  5.841             2  0.868217\n",
              "141          32       45.745  5.948             2  0.681529\n",
              "142          33       45.862  6.038             2  0.769231\n",
              "143          34       46.019  6.128             2  0.573248\n",
              "144          35       46.227  6.234             2  0.509615\n",
              "145          36       46.346  6.300             2  0.554622\n",
              "146          37       46.554  6.408             2  0.519231\n",
              "147          38       46.810  6.526             2  0.460937\n",
              "148          39       46.883  6.577             2  0.698630\n",
              "149          40       47.131  6.683             2  0.427419\n",
              "150          41       47.440  6.816             2  0.430421\n",
              "151          42       47.616  6.912             2  0.545455\n",
              "152          43       47.836  7.020             2  0.490909\n",
              "153          44       47.970  7.102             2  0.611940\n",
              "154          45       48.279  7.289             2  0.605178\n",
              "155          46       48.447  7.399             2  0.654762\n",
              "156          47       48.580  7.500             2  0.759398\n",
              "157          48       48.720  7.605             2  0.750000\n",
              "158          49       48.874  7.721             2  0.753247\n",
              "159          50       49.036  7.852             2  0.808642\n",
              "160          51       49.137  7.946             2  0.930693\n",
              "161          52       49.251  8.055             2  0.956140\n",
              "162          53       49.321  8.140             2  1.214286\n",
              "163          54       49.394  8.212             2  0.986301\n",
              "164          55       49.479  8.327             2  1.352941\n",
              "165          56       49.538  8.418             2  1.542373\n",
              "166          57       49.598  8.499             2  1.350000\n",
              "167          58       49.645  8.590             2  1.936170\n",
              "168          59       49.738  8.708             2  1.268817\n",
              "169          60       49.783  8.799             2  2.022222\n",
              "170          61       49.843  8.920             2  2.016667\n",
              "171          62       49.891  9.013             2  1.937500\n",
              "172          63       49.969  9.141             2  1.641026\n",
              "173          64       50.036  9.264             2  1.835821\n",
              "174          65       50.139  9.424             2  1.553398\n",
              "175          66       50.231  9.569             2  1.576087\n",
              "176          67       50.259  9.633             2  2.285714"
            ]
          },
          "execution_count": 128,
          "metadata": {},
          "output_type": "execute_result"
        }
      ],
      "source": [
        "# creating a dataframe of everything between the two inflection points to help us find the midpoint\n",
        "midpoint_df = concat_df[(concat_df[\"Volume (mL)\"]  >= inflection_pts_volume[0]) & (concat_df[\"Volume (mL)\"] <= inflection_pts_volume[1])]\n",
        "\n",
        "midpoint_df\n",
        "\n",
        "# sometimes this df is too long to print, so the following code will lock certain regions\n",
        "#midpoint_df.loc['10':'12','E(pH)']"
      ]
    },
    {
      "cell_type": "code",
      "execution_count": 129,
      "metadata": {
        "id": "ZHcko5OVnAMQ"
      },
      "outputs": [],
      "source": [
        "# again, sometimes this df is too long to print, so the following code will lock certain regions\n",
        "#midpoint_df.loc['10':'12','Volume (mL)']"
      ]
    },
    {
      "cell_type": "code",
      "execution_count": 130,
      "metadata": {
        "id": "8zMKkfgx4D06"
      },
      "outputs": [],
      "source": [
        "for i,vol in enumerate(midpoint_df[\"Volume (mL)\"]):\n",
        "  if vol > volume_midpoint:\n",
        "    top_index = i\n",
        "    bottom_index = top_index -1\n",
        "    break"
      ]
    },
    {
      "cell_type": "markdown",
      "metadata": {
        "id": "VxfmY5WStEdp"
      },
      "source": [
        "# We're going to normalize the x-axis"
      ]
    },
    {
      "cell_type": "code",
      "execution_count": 131,
      "metadata": {
        "id": "hLQOU3c8jnRu"
      },
      "outputs": [],
      "source": [
        "# creating the variable alpha to normalize our x-axis\n",
        "alpha = (midpoint_df['Volume (mL)'] - inflection_pts_volume[0]) / (inflection_pts_volume[1] - inflection_pts_volume[0])\n",
        "\n",
        "#alpha\n",
        "#print(len(alpha))"
      ]
    },
    {
      "cell_type": "markdown",
      "metadata": {
        "id": "9oWWbdN4xVlA"
      },
      "source": [
        "# Now lets visualize the data we've narrowed down and the new x-axis we've normalized"
      ]
    },
    {
      "cell_type": "code",
      "execution_count": 132,
      "metadata": {
        "colab": {
          "base_uri": "https://localhost:8080/",
          "height": 285
        },
        "id": "UESi-2GqYber",
        "outputId": "91bc0508-b1ad-4e9e-98cf-ca6c5a17883f"
      },
      "outputs": [
        {
          "data": {
            "image/png": "[encoded data removed]",
            "text/plain": [
              "<Figure size 432x288 with 1 Axes>"
            ]
          },
          "metadata": {},
          "output_type": "display_data"
        }
      ],
      "source": [
        "# plotting the dataframe thats zoomed in on everything between the inflection points on a normalized x-axis\n",
        "plt.plot(alpha, midpoint_df[\"E(pH)\"], '.', color='darkmagenta')\n",
        "plt.xlabel(r'$\\alpha$')\n",
        "plt.ylabel(\"pH\");"
      ]
    },
    {
      "cell_type": "markdown",
      "metadata": {
        "id": "N9w624X6xc3a"
      },
      "source": [
        "# Performing a chi-square test\n",
        "We're going to use a chi-square test to best approximate the pKa. This is because the value of our pKa doesn't exist in our data. As we saw earlier, our midpoint volume was between two data points, meaning that the pKa isn't a value we cna locate. Instead, we're going to calculate it by performing a chi-squared test. "
      ]
    },
    {
      "cell_type": "markdown",
      "metadata": {
        "id": "8UfEhsOFWXnV"
      },
      "source": [
        "# I found a [paper](https://onlinelibrary.wiley.com/doi/10.1002/pol.1947.120020409) that modifies the Hendersen-Hasselbach equation:\n",
        "# $$ pH = pKa + log([A-]/[HA])$$ \n",
        "# to model cationic copolymers: \n",
        "# $$pH = pKa - n log((1-a)/a)$$"
      ]
    },
    {
      "cell_type": "markdown",
      "metadata": {
        "id": "BzLlXMv4zjZc"
      },
      "source": [
        "# The following code uses three different 'fits' to see which value of $n$ 'fits' our actual data the best."
      ]
    },
    {
      "cell_type": "code",
      "execution_count": 133,
      "metadata": {
        "colab": {
          "base_uri": "https://localhost:8080/",
          "height": 338
        },
        "id": "7veWNdUGkePd",
        "outputId": "fdd41daf-e1b3-4d62-ad1c-6d0cc4838c7e"
      },
      "outputs": [
        {
          "name": "stderr",
          "output_type": "stream",
          "text": [
            "/usr/local/lib/python3.8/dist-packages/pandas/core/arraylike.py:364: RuntimeWarning: divide by zero encountered in log\n",
            "  result = getattr(ufunc, method)(*inputs, **kwargs)\n"
          ]
        },
        {
          "data": {
            "image/png": "[encoded data removed]",
            "text/plain": [
              "<Figure size 432x288 with 1 Axes>"
            ]
          },
          "metadata": {},
          "output_type": "display_data"
        }
      ],
      "source": [
        "fit1 = 6.85 - 0.6 * np.log((1 - alpha) / alpha)\n",
        "fit2 = 6.85 - 0.4 * np.log((1 - alpha) / alpha)\n",
        "fit3 = 6.85 - 0.2 * np.log((1 - alpha) / alpha)\n",
        "\n",
        "fits = [fit1, fit2, fit3]\n",
        "\n",
        "#for fit in fits:\n",
        "  #plt.plot(alpha, fit)\n",
        "\n",
        "plt.plot(alpha, fit1, color='darkmagenta')\n",
        "plt.plot(alpha, fit2, color='darkcyan')\n",
        "plt.plot(alpha, fit3, color='navy')\n",
        "\n",
        "plt.plot(alpha, midpoint_df[\"E(pH)\"], '.')\n",
        "plt.xlabel(r'$\\alpha$')\n",
        "plt.ylabel('pH')\n",
        "plt.title('p(DMAEMA)')\n",
        "plt.legend([\"n=0.6\",\"n=0.4\",\"n=0.2\",'p(DIP50-HEMA50): n=0.4']);"
      ]
    },
    {
      "cell_type": "markdown",
      "metadata": {
        "id": "J6BMaFCez-ey"
      },
      "source": [
        "# We see that $n=0.6$ best fits our real data"
      ]
    },
    {
      "cell_type": "markdown",
      "metadata": {
        "id": "94AvypUE0Etx"
      },
      "source": [
        "# Now, let's set up information for the chi-squared test to estimate our value of pKa"
      ]
    },
    {
      "cell_type": "markdown",
      "metadata": {
        "id": "cGcfhuDoqHuG"
      },
      "source": [
        "For a given fit, the chi-squared value is defined as:\n",
        "\n",
        "$$\\chi^2 = \\sum \\frac{(O_i - E_i)^2}{E_i}$$"
      ]
    },
    {
      "cell_type": "code",
      "execution_count": 134,
      "metadata": {
        "id": "zEJtFvnjmoe_"
      },
      "outputs": [],
      "source": [
        "# creating a chi-squared function with the parameters\n",
        "def chi_squared(params,data,alpha):\n",
        "\n",
        "  # indexing values for alpha and data\n",
        "  data = data.values[1:-1]\n",
        "  alpha = alpha.values[1:-1]\n",
        "\n",
        "  # setting my parameters\n",
        "  pKa = params[0]\n",
        "  n = params[1]\n",
        "  chi_squared = 0\n",
        "\n",
        "  # fitting the parameters with our cationic Henderson-Hasselbach equation\n",
        "  fit = pKa - n * np.log((1 - alpha) / alpha)\n",
        "\n",
        "  # using the chi_sqaured equation to fit \n",
        "  for i in range(len(data)):\n",
        "    chi = (data[i] - fit[i])** 2 / fit[i]\n",
        "    #print(chi)\n",
        "    chi_squared += chi \n",
        "\n",
        "  return chi_squared"
      ]
    },
    {
      "cell_type": "markdown",
      "metadata": {
        "id": "RjZ40kdb0iVo"
      },
      "source": [
        "# Earlier I said to remember the estimated value of our pKa from our midpoint dataframe. In the following code, place this number, along wiht the best fit number, in the chi_sqaured function.\n",
        "For this example, I inserted 6.85 and 0.6. "
      ]
    },
    {
      "cell_type": "code",
      "execution_count": 135,
      "metadata": {
        "colab": {
          "base_uri": "https://localhost:8080/"
        },
        "id": "ahoPjWvntPQ_",
        "outputId": "878901c3-a939-4fca-ec64-39ff23885679"
      },
      "outputs": [
        {
          "data": {
            "text/plain": [
              "0.6970076964600526"
            ]
          },
          "execution_count": 135,
          "metadata": {},
          "output_type": "execute_result"
        }
      ],
      "source": [
        "chi_squared([6.85,0.6], midpoint_df[\"E(pH)\"], alpha)"
      ]
    },
    {
      "cell_type": "markdown",
      "metadata": {
        "id": "00DjWl471pys"
      },
      "source": [
        "# Performing the chi-squared test\n",
        "Add our pKa guess and the best fit value to the following code. Be sure to change the bounds so that they fit around the pKa value and fit around the n value. For example, I added 6 and 7 to include the 6.85 pKa guess and the 0.5 and 0.7 to include the best fit. "
      ]
    },
    {
      "cell_type": "code",
      "execution_count": 136,
      "metadata": {
        "colab": {
          "base_uri": "https://localhost:8080/"
        },
        "id": "6dixEQFLqvFq",
        "outputId": "e760131f-4720-403f-ade6-622c2ffdc470"
      },
      "outputs": [
        {
          "data": {
            "text/plain": [
              "0.5969327973638133"
            ]
          },
          "execution_count": 136,
          "metadata": {},
          "output_type": "execute_result"
        }
      ],
      "source": [
        "ans = scipy.optimize.minimize(chi_squared, [6.85,0.6], args=(midpoint_df[\"E(pH)\"],alpha), \n",
        "                        bounds=[(6,7),(0.5,0.7)])\n",
        "ans.x\n",
        "\n",
        "# the pKa estimation \n",
        "best_pKa = ans.x[0]\n",
        "\n",
        "# the n estimation\n",
        "best_n = ans.x[1]"
      ]
    },
    {
      "cell_type": "code",
      "execution_count": 141,
      "metadata": {
        "colab": {
          "base_uri": "https://localhost:8080/"
        },
        "id": "0w5sqJq_2YSq",
        "outputId": "513e916e-7c91-404d-bbc5-421424e1cb6a"
      },
      "outputs": [
        {
          "data": {
            "text/plain": [
              "0.5969327973638133"
            ]
          },
          "execution_count": 141,
          "metadata": {},
          "output_type": "execute_result"
        }
      ],
      "source": [
        "# printing the best n value\n",
        "best_n"
      ]
    },
    {
      "cell_type": "code",
      "execution_count": 140,
      "metadata": {
        "colab": {
          "base_uri": "https://localhost:8080/"
        },
        "id": "1JSvsEHSdjNd",
        "outputId": "4a2b22ac-21ba-4044-bb69-3dfe5b0e9f17"
      },
      "outputs": [
        {
          "data": {
            "text/plain": [
              "7.0"
            ]
          },
          "execution_count": 140,
          "metadata": {},
          "output_type": "execute_result"
        }
      ],
      "source": [
        "# printing the best pKa\n",
        "best_pKa"
      ]
    },
    {
      "cell_type": "markdown",
      "metadata": {
        "id": "ZOBuqrhY2lLp"
      },
      "source": [
        "# Now, let's see how well our data fits with our chi-sqaured fit"
      ]
    },
    {
      "cell_type": "code",
      "execution_count": 143,
      "metadata": {
        "colab": {
          "base_uri": "https://localhost:8080/",
          "height": 322
        },
        "id": "_cwMBGK31UfJ",
        "outputId": "1ebeea16-1d0a-4f89-b4e6-43720e8a184d"
      },
      "outputs": [
        {
          "name": "stderr",
          "output_type": "stream",
          "text": [
            "/usr/local/lib/python3.8/dist-packages/pandas/core/arraylike.py:364: RuntimeWarning: divide by zero encountered in log\n",
            "  result = getattr(ufunc, method)(*inputs, **kwargs)\n"
          ]
        },
        {
          "data": {
            "image/png": "[encoded data removed]",
            "text/plain": [
              "<Figure size 432x288 with 1 Axes>"
            ]
          },
          "metadata": {},
          "output_type": "display_data"
        }
      ],
      "source": [
        "# plot the best fit\n",
        "fit = best_pKa - best_n * np.log((1-alpha) / alpha)\n",
        "plt.plot(alpha, fit, color=\"darkcyan\")\n",
        "\n",
        "# plot the data\n",
        "plt.plot(alpha, midpoint_df[\"E(pH)\"], '.', color='darkmagenta')\n",
        "\n",
        "# labels\n",
        "plt.xlabel(r'$\\alpha$')\n",
        "plt.ylabel('pH')\n",
        "plt.legend([\"fit: n=0.6\",\"data\"]);"
      ]
    }
  ],
  "metadata": {
    "colab": {
      "include_colab_link": true,
      "provenance": []
    },
    "kernelspec": {
      "display_name": "Python 3",
      "language": "python",
      "name": "python3"
    },
    "language_info": {
      "codemirror_mode": {
        "name": "ipython",
        "version": 3
      },
      "file_extension": ".py",
      "mimetype": "text/x-python",
      "name": "python",
      "nbconvert_exporter": "python",
      "pygments_lexer": "ipython3",
      "version": "3.11.1"
    },
    "vscode": {
      "interpreter": {
        "hash": "aee8b7b246df8f9039afb4144a1f6fd8d2ca17a180786b69acc140d282b71a49"
      }
    }
  },
  "nbformat": 4,
  "nbformat_minor": 0
}
