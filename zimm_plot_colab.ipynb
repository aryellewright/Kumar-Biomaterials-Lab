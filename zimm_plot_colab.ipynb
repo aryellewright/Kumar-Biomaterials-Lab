{
  "nbformat": 4,
  "nbformat_minor": 0,
  "metadata": {
    "colab": {
      "provenance": [],
      "authorship_tag": "ABX9TyMkVxscPc2cGT9fnQ4VB/Jd",
      "include_colab_link": true
    },
    "kernelspec": {
      "name": "python3",
      "display_name": "Python 3"
    },
    "language_info": {
      "name": "python"
    }
  },
  "cells": [
    {
      "cell_type": "markdown",
      "metadata": {
        "id": "view-in-github",
        "colab_type": "text"
      },
      "source": [
        "<a href=\"https://colab.research.google.com/github/aryellewright/Kumar-Biomaterials-Lab/blob/master/zimm_plot_colab.ipynb\" target=\"_parent\"><img src=\"https://colab.research.google.com/assets/colab-badge.svg\" alt=\"Open In Colab\"/></a>"
      ]
    },
    {
      "cell_type": "code",
      "execution_count": 1,
      "metadata": {
        "colab": {
          "base_uri": "https://localhost:8080/"
        },
        "id": "r5dul7XC6x54",
        "outputId": "035e2fa4-fb5a-4689-9864-7c7b37ec41c5"
      },
      "outputs": [
        {
          "output_type": "stream",
          "name": "stdout",
          "text": [
            "Mounted at /content/drive\n"
          ]
        }
      ],
      "source": [
        "import pandas as pd\n",
        "import seaborn as sns\n",
        "import matplotlib.pyplot as plt\n",
        "import scipy\n",
        "import glob\n",
        "\n",
        "from google.colab import drive\n",
        "drive.mount('/content/drive')"
      ]
    },
    {
      "cell_type": "code",
      "source": [
        "file_path = glob.glob(\"/*/*/*/*/DMAEMA80-PEG20/*.csv\")\n",
        "df = pd.read_csv(file_path, delimiter=',', encoding='unicode_escape')"
      ],
      "metadata": {
        "id": "rstYXjPD61tV"
      },
      "execution_count": null,
      "outputs": []
    },
    {
      "cell_type": "code",
      "source": [
        "# Given that each pair (sin^2(ϴ/2) + kc, Peak) represents one set of data to plot\n",
        "columns = df.columns.tolist()\n",
        "sets_of_data = len(columns) // 2  # Assuming pairs of columns\n",
        "\n",
        "plt.figure(figsize=(12, 8))\n",
        "\n",
        "color_dict = {}\n",
        "\n",
        "# looping through and plotting\n",
        "for i in range(sets_of_data):\n",
        "\n",
        "    x_data = df[columns[2*i]]\n",
        "    y_data = df[columns[2*i + 1]]\n",
        "    marker = ''\n",
        "    line_style = '-'\n",
        "    label=None\n",
        "    color = None\n",
        "    lw=2\n",
        "\n",
        "    if 'Fit Peak' in columns[2*i+1] or 'Zero' in columns[2*i+1]:\n",
        "        line_style = '-'\n",
        "        label = columns[2*i + 1]\n",
        "\n",
        "    elif 'Fit' in columns[2*i+1]:\n",
        "        lw = 1\n",
        "        color = \"grey\"\n",
        "\n",
        "    else:\n",
        "        label = columns[2*i + 1]\n",
        "        marker = 'o'\n",
        "        line_style = ''\n",
        "\n",
        "    fit_num = int(columns[2*i + 1].split()[-1]) if columns[2*i + 1].split()[-1].isdigit() else -1\n",
        "\n",
        "    if fit_num > 0 and fit_num in color_dict:\n",
        "        plt.plot(x_data, y_data, marker=marker, linestyle=line_style, label=label, color=color_dict[fit_num], lw=lw)\n",
        "    else:\n",
        "        new_plot = plt.plot(x_data, y_data, marker=marker, linestyle=line_style, label=label, color=color, lw=lw)\n",
        "        color_dict[fit_num] = new_plot[0].get_color()\n",
        "\n",
        "\n",
        "plt.title('Zimm Plot')\n",
        "plt.xlabel('sin²(ϴ/2) + kc')\n",
        "plt.ylabel('K*c/R($\\dot{\\Theta}$)')\n",
        "# plt.legend()\n",
        "plt.grid(True)\n",
        "plt.tight_layout()\n",
        "plt.show()\n",
        "\n"
      ],
      "metadata": {
        "id": "zAPIz5Zy69Jf"
      },
      "execution_count": null,
      "outputs": []
    }
  ]
}